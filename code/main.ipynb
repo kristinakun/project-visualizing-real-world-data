{
 "cells": [
  {
   "cell_type": "markdown",
   "metadata": {
    "toc": true
   },
   "source": [
    "<h1>Table of Contents<span class=\"tocSkip\"></span></h1>\n",
    "<div class=\"toc\"><ul class=\"toc-item\"><li><span><a href=\"#Goal\" data-toc-modified-id=\"Goal-1\"><span class=\"toc-item-num\">1&nbsp;&nbsp;</span>Goal</a></span></li><li><span><a href=\"#Understanding-the-data\" data-toc-modified-id=\"Understanding-the-data-2\"><span class=\"toc-item-num\">2&nbsp;&nbsp;</span>Understanding the data</a></span></li><li><span><a href=\"#Investigating-the-missing-data\" data-toc-modified-id=\"Investigating-the-missing-data-3\"><span class=\"toc-item-num\">3&nbsp;&nbsp;</span>Investigating the missing data</a></span></li><li><span><a href=\"#Distribution-of-the-data\" data-toc-modified-id=\"Distribution-of-the-data-4\"><span class=\"toc-item-num\">4&nbsp;&nbsp;</span>Distribution of the data</a></span><ul class=\"toc-item\"><li><span><a href=\"#Distribution-of-sales-per-country\" data-toc-modified-id=\"Distribution-of-sales-per-country-4.1\"><span class=\"toc-item-num\">4.1&nbsp;&nbsp;</span>Distribution of sales per country</a></span></li><li><span><a href=\"#Shops-based-in-US\" data-toc-modified-id=\"Shops-based-in-US-4.2\"><span class=\"toc-item-num\">4.2&nbsp;&nbsp;</span>Shops based in US</a></span></li></ul></li><li><span><a href=\"#Correlation\" data-toc-modified-id=\"Correlation-5\"><span class=\"toc-item-num\">5&nbsp;&nbsp;</span>Correlation</a></span><ul class=\"toc-item\"><li><span><a href=\"#Cleaning-outliers\" data-toc-modified-id=\"Cleaning-outliers-5.1\"><span class=\"toc-item-num\">5.1&nbsp;&nbsp;</span>Cleaning outliers</a></span></li></ul></li><li><span><a href=\"#Main-outcomes\" data-toc-modified-id=\"Main-outcomes-6\"><span class=\"toc-item-num\">6&nbsp;&nbsp;</span>Main outcomes</a></span></li></ul></div>"
   ]
  },
  {
   "cell_type": "markdown",
   "metadata": {},
   "source": [
    "## Goal \n",
    "\n",
    "Using the Etsy Shops Dataset discover if there are particular attributes of the shops (e.g. location, number of reviews and followers) that may impact their success."
   ]
  },
  {
   "cell_type": "code",
   "execution_count": 1,
   "metadata": {
    "ExecuteTime": {
     "end_time": "2020-03-14T16:32:04.089152Z",
     "start_time": "2020-03-14T16:32:01.260703Z"
    }
   },
   "outputs": [
    {
     "data": {
      "text/html": [
       "        <script type=\"text/javascript\">\n",
       "        window.PlotlyConfig = {MathJaxConfig: 'local'};\n",
       "        if (window.MathJax) {MathJax.Hub.Config({SVG: {font: \"STIX-Web\"}});}\n",
       "        if (typeof require !== 'undefined') {\n",
       "        require.undef(\"plotly\");\n",
       "        requirejs.config({\n",
       "            paths: {\n",
       "                'plotly': ['https://cdn.plot.ly/plotly-latest.min']\n",
       "            }\n",
       "        });\n",
       "        require(['plotly'], function(Plotly) {\n",
       "            window._Plotly = Plotly;\n",
       "        });\n",
       "        }\n",
       "        </script>\n",
       "        "
      ]
     },
     "metadata": {},
     "output_type": "display_data"
    },
    {
     "data": {
      "text/html": [
       "        <script type=\"text/javascript\">\n",
       "        window.PlotlyConfig = {MathJaxConfig: 'local'};\n",
       "        if (window.MathJax) {MathJax.Hub.Config({SVG: {font: \"STIX-Web\"}});}\n",
       "        if (typeof require !== 'undefined') {\n",
       "        require.undef(\"plotly\");\n",
       "        requirejs.config({\n",
       "            paths: {\n",
       "                'plotly': ['https://cdn.plot.ly/plotly-latest.min']\n",
       "            }\n",
       "        });\n",
       "        require(['plotly'], function(Plotly) {\n",
       "            window._Plotly = Plotly;\n",
       "        });\n",
       "        }\n",
       "        </script>\n",
       "        "
      ]
     },
     "metadata": {},
     "output_type": "display_data"
    }
   ],
   "source": [
    "from string import ascii_letters\n",
    "import numpy as np\n",
    "import pandas as pd\n",
    "import matplotlib.pyplot as plt\n",
    "import seaborn as sns\n",
    "\n",
    "import plotly.offline as py\n",
    "import cufflinks as cf\n",
    "from ipywidgets import interact\n",
    "py.init_notebook_mode(connected=True)\n",
    "import plotly.graph_objects as go\n",
    "import plotly.express as px\n",
    "\n",
    "\n",
    "cf.go_offline()"
   ]
  },
  {
   "cell_type": "markdown",
   "metadata": {},
   "source": [
    "## Understanding the data"
   ]
  },
  {
   "cell_type": "markdown",
   "metadata": {},
   "source": [
    "First, checking the dataset, printing some rows to understand the columns and information."
   ]
  },
  {
   "cell_type": "code",
   "execution_count": 2,
   "metadata": {
    "ExecuteTime": {
     "end_time": "2020-03-14T16:32:04.116080Z",
     "start_time": "2020-03-14T16:32:04.090148Z"
    }
   },
   "outputs": [
    {
     "data": {
      "text/html": [
       "<div>\n",
       "<style scoped>\n",
       "    .dataframe tbody tr th:only-of-type {\n",
       "        vertical-align: middle;\n",
       "    }\n",
       "\n",
       "    .dataframe tbody tr th {\n",
       "        vertical-align: top;\n",
       "    }\n",
       "\n",
       "    .dataframe thead th {\n",
       "        text-align: right;\n",
       "    }\n",
       "</style>\n",
       "<table border=\"1\" class=\"dataframe\">\n",
       "  <thead>\n",
       "    <tr style=\"text-align: right;\">\n",
       "      <th></th>\n",
       "      <th>creation_date</th>\n",
       "      <th>listing_active_count</th>\n",
       "      <th>num_favorers</th>\n",
       "      <th>currency_code</th>\n",
       "      <th>is_shop_us_based</th>\n",
       "      <th>sale_message</th>\n",
       "      <th>sales_count</th>\n",
       "      <th>review_count</th>\n",
       "      <th>shop_location</th>\n",
       "    </tr>\n",
       "  </thead>\n",
       "  <tbody>\n",
       "    <tr>\n",
       "      <td>0</td>\n",
       "      <td>19-Nov</td>\n",
       "      <td>3</td>\n",
       "      <td>1</td>\n",
       "      <td>USD</td>\n",
       "      <td>True</td>\n",
       "      <td>False</td>\n",
       "      <td>0</td>\n",
       "      <td>0</td>\n",
       "      <td>Kansas City, Missouri</td>\n",
       "    </tr>\n",
       "    <tr>\n",
       "      <td>1</td>\n",
       "      <td>19-Nov</td>\n",
       "      <td>13</td>\n",
       "      <td>1</td>\n",
       "      <td>AUD</td>\n",
       "      <td>False</td>\n",
       "      <td>False</td>\n",
       "      <td>2</td>\n",
       "      <td>0</td>\n",
       "      <td>None</td>\n",
       "    </tr>\n",
       "    <tr>\n",
       "      <td>2</td>\n",
       "      <td>19-Nov</td>\n",
       "      <td>0</td>\n",
       "      <td>0</td>\n",
       "      <td>USD</td>\n",
       "      <td>True</td>\n",
       "      <td>False</td>\n",
       "      <td>-99</td>\n",
       "      <td>-99</td>\n",
       "      <td>None</td>\n",
       "    </tr>\n",
       "    <tr>\n",
       "      <td>3</td>\n",
       "      <td>19-Nov</td>\n",
       "      <td>40</td>\n",
       "      <td>1</td>\n",
       "      <td>USD</td>\n",
       "      <td>False</td>\n",
       "      <td>False</td>\n",
       "      <td>0</td>\n",
       "      <td>0</td>\n",
       "      <td>Kharkiv, Ukraine</td>\n",
       "    </tr>\n",
       "    <tr>\n",
       "      <td>4</td>\n",
       "      <td>19-Nov</td>\n",
       "      <td>7</td>\n",
       "      <td>1</td>\n",
       "      <td>USD</td>\n",
       "      <td>True</td>\n",
       "      <td>False</td>\n",
       "      <td>0</td>\n",
       "      <td>0</td>\n",
       "      <td>New York, United States</td>\n",
       "    </tr>\n",
       "  </tbody>\n",
       "</table>\n",
       "</div>"
      ],
      "text/plain": [
       "  creation_date  listing_active_count  num_favorers currency_code  \\\n",
       "0        19-Nov                     3             1           USD   \n",
       "1        19-Nov                    13             1           AUD   \n",
       "2        19-Nov                     0             0           USD   \n",
       "3        19-Nov                    40             1           USD   \n",
       "4        19-Nov                     7             1           USD   \n",
       "\n",
       "   is_shop_us_based  sale_message  sales_count  review_count  \\\n",
       "0              True         False            0             0   \n",
       "1             False         False            2             0   \n",
       "2              True         False          -99           -99   \n",
       "3             False         False            0             0   \n",
       "4              True         False            0             0   \n",
       "\n",
       "             shop_location  \n",
       "0    Kansas City, Missouri  \n",
       "1                     None  \n",
       "2                     None  \n",
       "3         Kharkiv, Ukraine  \n",
       "4  New York, United States  "
      ]
     },
     "execution_count": 2,
     "metadata": {},
     "output_type": "execute_result"
    }
   ],
   "source": [
    "data = pd.read_csv('./data/etsy_shops_data.csv')\n",
    "data.head()"
   ]
  },
  {
   "cell_type": "code",
   "execution_count": 3,
   "metadata": {
    "ExecuteTime": {
     "end_time": "2020-03-14T16:32:04.122063Z",
     "start_time": "2020-03-14T16:32:04.117076Z"
    }
   },
   "outputs": [
    {
     "data": {
      "text/plain": [
       "(20000, 9)"
      ]
     },
     "execution_count": 3,
     "metadata": {},
     "output_type": "execute_result"
    }
   ],
   "source": [
    "data.shape"
   ]
  },
  {
   "cell_type": "code",
   "execution_count": 4,
   "metadata": {
    "ExecuteTime": {
     "end_time": "2020-03-14T16:32:04.129046Z",
     "start_time": "2020-03-14T16:32:04.123063Z"
    }
   },
   "outputs": [
    {
     "data": {
      "text/plain": [
       "array(['19-Nov', '19-Dec', '15-Apr'], dtype=object)"
      ]
     },
     "execution_count": 4,
     "metadata": {},
     "output_type": "execute_result"
    }
   ],
   "source": [
    "data.creation_date.unique()"
   ]
  },
  {
   "cell_type": "markdown",
   "metadata": {},
   "source": [
    "The dataset has 9 columns and 20000 rows. We have data from 2019 Novemebr, December and 2015 April."
   ]
  },
  {
   "cell_type": "markdown",
   "metadata": {},
   "source": [
    "How much data do we have from 2015? It seems not aligned with the rest of the data:"
   ]
  },
  {
   "cell_type": "code",
   "execution_count": 5,
   "metadata": {
    "ExecuteTime": {
     "end_time": "2020-03-14T16:32:04.141013Z",
     "start_time": "2020-03-14T16:32:04.130042Z"
    }
   },
   "outputs": [
    {
     "data": {
      "text/html": [
       "<div>\n",
       "<style scoped>\n",
       "    .dataframe tbody tr th:only-of-type {\n",
       "        vertical-align: middle;\n",
       "    }\n",
       "\n",
       "    .dataframe tbody tr th {\n",
       "        vertical-align: top;\n",
       "    }\n",
       "\n",
       "    .dataframe thead th {\n",
       "        text-align: right;\n",
       "    }\n",
       "</style>\n",
       "<table border=\"1\" class=\"dataframe\">\n",
       "  <thead>\n",
       "    <tr style=\"text-align: right;\">\n",
       "      <th></th>\n",
       "      <th>creation_date</th>\n",
       "      <th>listing_active_count</th>\n",
       "      <th>num_favorers</th>\n",
       "      <th>currency_code</th>\n",
       "      <th>is_shop_us_based</th>\n",
       "      <th>sale_message</th>\n",
       "      <th>sales_count</th>\n",
       "      <th>review_count</th>\n",
       "      <th>shop_location</th>\n",
       "    </tr>\n",
       "  </thead>\n",
       "  <tbody>\n",
       "    <tr>\n",
       "      <td>551</td>\n",
       "      <td>15-Apr</td>\n",
       "      <td>0</td>\n",
       "      <td>0</td>\n",
       "      <td>USD</td>\n",
       "      <td>False</td>\n",
       "      <td>False</td>\n",
       "      <td>0</td>\n",
       "      <td>0</td>\n",
       "      <td>None</td>\n",
       "    </tr>\n",
       "    <tr>\n",
       "      <td>612</td>\n",
       "      <td>15-Apr</td>\n",
       "      <td>0</td>\n",
       "      <td>0</td>\n",
       "      <td>USD</td>\n",
       "      <td>False</td>\n",
       "      <td>False</td>\n",
       "      <td>0</td>\n",
       "      <td>0</td>\n",
       "      <td>None</td>\n",
       "    </tr>\n",
       "    <tr>\n",
       "      <td>614</td>\n",
       "      <td>15-Apr</td>\n",
       "      <td>0</td>\n",
       "      <td>0</td>\n",
       "      <td>USD</td>\n",
       "      <td>False</td>\n",
       "      <td>False</td>\n",
       "      <td>0</td>\n",
       "      <td>0</td>\n",
       "      <td>None</td>\n",
       "    </tr>\n",
       "    <tr>\n",
       "      <td>638</td>\n",
       "      <td>15-Apr</td>\n",
       "      <td>0</td>\n",
       "      <td>0</td>\n",
       "      <td>USD</td>\n",
       "      <td>False</td>\n",
       "      <td>False</td>\n",
       "      <td>0</td>\n",
       "      <td>0</td>\n",
       "      <td>None</td>\n",
       "    </tr>\n",
       "    <tr>\n",
       "      <td>2712</td>\n",
       "      <td>15-Apr</td>\n",
       "      <td>0</td>\n",
       "      <td>0</td>\n",
       "      <td>USD</td>\n",
       "      <td>False</td>\n",
       "      <td>False</td>\n",
       "      <td>0</td>\n",
       "      <td>0</td>\n",
       "      <td>None</td>\n",
       "    </tr>\n",
       "  </tbody>\n",
       "</table>\n",
       "</div>"
      ],
      "text/plain": [
       "     creation_date  listing_active_count  num_favorers currency_code  \\\n",
       "551         15-Apr                     0             0           USD   \n",
       "612         15-Apr                     0             0           USD   \n",
       "614         15-Apr                     0             0           USD   \n",
       "638         15-Apr                     0             0           USD   \n",
       "2712        15-Apr                     0             0           USD   \n",
       "\n",
       "      is_shop_us_based  sale_message  sales_count  review_count shop_location  \n",
       "551              False         False            0             0          None  \n",
       "612              False         False            0             0          None  \n",
       "614              False         False            0             0          None  \n",
       "638              False         False            0             0          None  \n",
       "2712             False         False            0             0          None  "
      ]
     },
     "execution_count": 5,
     "metadata": {},
     "output_type": "execute_result"
    }
   ],
   "source": [
    "data15 = data.loc[data.creation_date == '15-Apr']\n",
    "data15"
   ]
  },
  {
   "cell_type": "code",
   "execution_count": 6,
   "metadata": {
    "ExecuteTime": {
     "end_time": "2020-03-14T16:32:04.147994Z",
     "start_time": "2020-03-14T16:32:04.142009Z"
    }
   },
   "outputs": [
    {
     "name": "stdout",
     "output_type": "stream",
     "text": [
      "We only have 5 rows of data from 2015, which is 0.025% of all the dataset\n"
     ]
    }
   ],
   "source": [
    "print(f'We only have {len(data15)} rows of data from 2015, which is {len(data15)/len(data)*100}% of all the dataset')"
   ]
  },
  {
   "cell_type": "markdown",
   "metadata": {},
   "source": [
    "Since the % of the data from 2015 is so low, deleting the rows to only have 2019 data:"
   ]
  },
  {
   "cell_type": "code",
   "execution_count": 7,
   "metadata": {
    "ExecuteTime": {
     "end_time": "2020-03-14T16:32:04.157969Z",
     "start_time": "2020-03-14T16:32:04.148992Z"
    }
   },
   "outputs": [],
   "source": [
    "data.drop(data[data.creation_date == '15-Apr'].index, inplace=True)"
   ]
  },
  {
   "cell_type": "markdown",
   "metadata": {},
   "source": [
    "Checking if the rows have been  successfully deleted:"
   ]
  },
  {
   "cell_type": "code",
   "execution_count": 8,
   "metadata": {
    "ExecuteTime": {
     "end_time": "2020-03-14T16:32:04.165945Z",
     "start_time": "2020-03-14T16:32:04.159961Z"
    }
   },
   "outputs": [
    {
     "data": {
      "text/plain": [
       "0"
      ]
     },
     "execution_count": 8,
     "metadata": {},
     "output_type": "execute_result"
    }
   ],
   "source": [
    "len(data[data.creation_date == '15-Apr'])"
   ]
  },
  {
   "cell_type": "markdown",
   "metadata": {},
   "source": [
    "Checking what is the distribution of data per month:"
   ]
  },
  {
   "cell_type": "code",
   "execution_count": 9,
   "metadata": {
    "ExecuteTime": {
     "end_time": "2020-03-14T16:32:04.174921Z",
     "start_time": "2020-03-14T16:32:04.166943Z"
    }
   },
   "outputs": [
    {
     "data": {
      "text/plain": [
       "19-Nov    18894\n",
       "19-Dec     1101\n",
       "Name: creation_date, dtype: int64"
      ]
     },
     "execution_count": 9,
     "metadata": {},
     "output_type": "execute_result"
    }
   ],
   "source": [
    "data_per_month=data.creation_date.value_counts()\n",
    "data_per_month"
   ]
  },
  {
   "cell_type": "code",
   "execution_count": 10,
   "metadata": {
    "ExecuteTime": {
     "end_time": "2020-03-14T16:32:04.179910Z",
     "start_time": "2020-03-14T16:32:04.175918Z"
    }
   },
   "outputs": [
    {
     "name": "stdout",
     "output_type": "stream",
     "text": [
      "Dataset has 94.49% of data from 2019 November and only 5.51% of data from 2019 December\n"
     ]
    }
   ],
   "source": [
    "print(f'Dataset has {data_per_month[0]/len(data)*100:.2f}% of data from 2019 November and only {data_per_month[1]/len(data)*100:.2f}% of data from 2019 December')"
   ]
  },
  {
   "cell_type": "markdown",
   "metadata": {},
   "source": [
    "## Investigating the missing data"
   ]
  },
  {
   "cell_type": "markdown",
   "metadata": {},
   "source": [
    "Changing None to nan value:"
   ]
  },
  {
   "cell_type": "code",
   "execution_count": 11,
   "metadata": {
    "ExecuteTime": {
     "end_time": "2020-03-14T16:32:04.206836Z",
     "start_time": "2020-03-14T16:32:04.180906Z"
    }
   },
   "outputs": [
    {
     "data": {
      "text/html": [
       "<div>\n",
       "<style scoped>\n",
       "    .dataframe tbody tr th:only-of-type {\n",
       "        vertical-align: middle;\n",
       "    }\n",
       "\n",
       "    .dataframe tbody tr th {\n",
       "        vertical-align: top;\n",
       "    }\n",
       "\n",
       "    .dataframe thead th {\n",
       "        text-align: right;\n",
       "    }\n",
       "</style>\n",
       "<table border=\"1\" class=\"dataframe\">\n",
       "  <thead>\n",
       "    <tr style=\"text-align: right;\">\n",
       "      <th></th>\n",
       "      <th>creation_date</th>\n",
       "      <th>listing_active_count</th>\n",
       "      <th>num_favorers</th>\n",
       "      <th>currency_code</th>\n",
       "      <th>is_shop_us_based</th>\n",
       "      <th>sale_message</th>\n",
       "      <th>sales_count</th>\n",
       "      <th>review_count</th>\n",
       "      <th>shop_location</th>\n",
       "    </tr>\n",
       "  </thead>\n",
       "  <tbody>\n",
       "    <tr>\n",
       "      <td>0</td>\n",
       "      <td>19-Nov</td>\n",
       "      <td>3</td>\n",
       "      <td>1</td>\n",
       "      <td>USD</td>\n",
       "      <td>True</td>\n",
       "      <td>False</td>\n",
       "      <td>0</td>\n",
       "      <td>0</td>\n",
       "      <td>Kansas City, Missouri</td>\n",
       "    </tr>\n",
       "    <tr>\n",
       "      <td>1</td>\n",
       "      <td>19-Nov</td>\n",
       "      <td>13</td>\n",
       "      <td>1</td>\n",
       "      <td>AUD</td>\n",
       "      <td>False</td>\n",
       "      <td>False</td>\n",
       "      <td>2</td>\n",
       "      <td>0</td>\n",
       "      <td>NaN</td>\n",
       "    </tr>\n",
       "    <tr>\n",
       "      <td>2</td>\n",
       "      <td>19-Nov</td>\n",
       "      <td>0</td>\n",
       "      <td>0</td>\n",
       "      <td>USD</td>\n",
       "      <td>True</td>\n",
       "      <td>False</td>\n",
       "      <td>-99</td>\n",
       "      <td>-99</td>\n",
       "      <td>NaN</td>\n",
       "    </tr>\n",
       "    <tr>\n",
       "      <td>3</td>\n",
       "      <td>19-Nov</td>\n",
       "      <td>40</td>\n",
       "      <td>1</td>\n",
       "      <td>USD</td>\n",
       "      <td>False</td>\n",
       "      <td>False</td>\n",
       "      <td>0</td>\n",
       "      <td>0</td>\n",
       "      <td>Kharkiv, Ukraine</td>\n",
       "    </tr>\n",
       "    <tr>\n",
       "      <td>4</td>\n",
       "      <td>19-Nov</td>\n",
       "      <td>7</td>\n",
       "      <td>1</td>\n",
       "      <td>USD</td>\n",
       "      <td>True</td>\n",
       "      <td>False</td>\n",
       "      <td>0</td>\n",
       "      <td>0</td>\n",
       "      <td>New York, United States</td>\n",
       "    </tr>\n",
       "  </tbody>\n",
       "</table>\n",
       "</div>"
      ],
      "text/plain": [
       "  creation_date  listing_active_count  num_favorers currency_code  \\\n",
       "0        19-Nov                     3             1           USD   \n",
       "1        19-Nov                    13             1           AUD   \n",
       "2        19-Nov                     0             0           USD   \n",
       "3        19-Nov                    40             1           USD   \n",
       "4        19-Nov                     7             1           USD   \n",
       "\n",
       "   is_shop_us_based  sale_message  sales_count  review_count  \\\n",
       "0              True         False            0             0   \n",
       "1             False         False            2             0   \n",
       "2              True         False          -99           -99   \n",
       "3             False         False            0             0   \n",
       "4              True         False            0             0   \n",
       "\n",
       "             shop_location  \n",
       "0    Kansas City, Missouri  \n",
       "1                      NaN  \n",
       "2                      NaN  \n",
       "3         Kharkiv, Ukraine  \n",
       "4  New York, United States  "
      ]
     },
     "execution_count": 11,
     "metadata": {},
     "output_type": "execute_result"
    }
   ],
   "source": [
    "data = data.replace('None', np.nan)\n",
    "data.head()"
   ]
  },
  {
   "cell_type": "markdown",
   "metadata": {},
   "source": [
    "Checking the % of missing values"
   ]
  },
  {
   "cell_type": "code",
   "execution_count": 12,
   "metadata": {
    "ExecuteTime": {
     "end_time": "2020-03-14T16:32:04.227780Z",
     "start_time": "2020-03-14T16:32:04.207835Z"
    },
    "scrolled": true
   },
   "outputs": [
    {
     "data": {
      "text/html": [
       "<div>\n",
       "<style scoped>\n",
       "    .dataframe tbody tr th:only-of-type {\n",
       "        vertical-align: middle;\n",
       "    }\n",
       "\n",
       "    .dataframe tbody tr th {\n",
       "        vertical-align: top;\n",
       "    }\n",
       "\n",
       "    .dataframe thead th {\n",
       "        text-align: right;\n",
       "    }\n",
       "</style>\n",
       "<table border=\"1\" class=\"dataframe\">\n",
       "  <thead>\n",
       "    <tr style=\"text-align: right;\">\n",
       "      <th></th>\n",
       "      <th>column_name</th>\n",
       "      <th>percent_missing</th>\n",
       "    </tr>\n",
       "  </thead>\n",
       "  <tbody>\n",
       "    <tr>\n",
       "      <td>shop_location</td>\n",
       "      <td>shop_location</td>\n",
       "      <td>62.115529</td>\n",
       "    </tr>\n",
       "    <tr>\n",
       "      <td>creation_date</td>\n",
       "      <td>creation_date</td>\n",
       "      <td>0.000000</td>\n",
       "    </tr>\n",
       "    <tr>\n",
       "      <td>listing_active_count</td>\n",
       "      <td>listing_active_count</td>\n",
       "      <td>0.000000</td>\n",
       "    </tr>\n",
       "    <tr>\n",
       "      <td>num_favorers</td>\n",
       "      <td>num_favorers</td>\n",
       "      <td>0.000000</td>\n",
       "    </tr>\n",
       "    <tr>\n",
       "      <td>currency_code</td>\n",
       "      <td>currency_code</td>\n",
       "      <td>0.000000</td>\n",
       "    </tr>\n",
       "  </tbody>\n",
       "</table>\n",
       "</div>"
      ],
      "text/plain": [
       "                               column_name  percent_missing\n",
       "shop_location                shop_location        62.115529\n",
       "creation_date                creation_date         0.000000\n",
       "listing_active_count  listing_active_count         0.000000\n",
       "num_favorers                  num_favorers         0.000000\n",
       "currency_code                currency_code         0.000000"
      ]
     },
     "execution_count": 12,
     "metadata": {},
     "output_type": "execute_result"
    }
   ],
   "source": [
    "percent_missing = data.isnull().sum() * 100 / len(data)\n",
    "missing_value_df = pd.DataFrame({'column_name': data.columns,\n",
    "                                 'percent_missing': percent_missing})\n",
    "\n",
    "missing_value_df.sort_values('percent_missing', inplace=True, ascending = False)\n",
    "missing_value_df.head()"
   ]
  },
  {
   "cell_type": "markdown",
   "metadata": {},
   "source": [
    "The column shop_location has 62% of missing values. Later in the analysis will be checking if this data could be used for some more specific segmented analysis."
   ]
  },
  {
   "cell_type": "markdown",
   "metadata": {},
   "source": [
    "Apart from the missing data we are also checking if there is incorrect data in the columns sales_count and review_count:"
   ]
  },
  {
   "cell_type": "code",
   "execution_count": 13,
   "metadata": {
    "ExecuteTime": {
     "end_time": "2020-03-14T16:32:04.233765Z",
     "start_time": "2020-03-14T16:32:04.228777Z"
    }
   },
   "outputs": [
    {
     "data": {
      "text/plain": [
       "array([   0,    2,  -99,   14,    1,   22,    6,  156,    5,    7,    8,\n",
       "          3,    4,    9,   16,   20,   15,   28,   10,   12,   59,   25,\n",
       "         23,  498,   37,   68,   33,   36,   29,   55,   69,   83,   34,\n",
       "         11,   26,   27,  112,   62,  183,   39,   21,  106,  163,   95,\n",
       "         35,   13,   19,   50,   17,   43,   64,   66,  113,  147,  111,\n",
       "        104,   18,   51,   60,  254,  101,   98,   44,   78,   93,  109,\n",
       "         24,   58,   72,   74,   47,   65,   46,   80,  161,   32,  389,\n",
       "         30,   38,  247,   49,   42,   45,   85,  314,   53,  255,  134,\n",
       "         73, 1285,   41,  143,   71, 1508,   40,  889,   54,  457,  110,\n",
       "         31,   57,  105,  299,   48,  803,  264,  580, 2216,  316,  107,\n",
       "         86,  471,  251,   94,  118,   61,  103,  193,   70,  167, 1096],\n",
       "      dtype=int64)"
      ]
     },
     "execution_count": 13,
     "metadata": {},
     "output_type": "execute_result"
    }
   ],
   "source": [
    "data.sales_count.unique()"
   ]
  },
  {
   "cell_type": "code",
   "execution_count": 14,
   "metadata": {
    "ExecuteTime": {
     "end_time": "2020-03-14T16:32:04.239749Z",
     "start_time": "2020-03-14T16:32:04.234762Z"
    }
   },
   "outputs": [
    {
     "data": {
      "text/plain": [
       "array([  0, -99,   1,   3,   2,   6,   4,   5,  19,   9,  17,  13,   8,\n",
       "        10,  58,   7,  51,  14,  25], dtype=int64)"
      ]
     },
     "execution_count": 14,
     "metadata": {},
     "output_type": "execute_result"
    }
   ],
   "source": [
    "data.review_count.unique()"
   ]
  },
  {
   "cell_type": "markdown",
   "metadata": {},
   "source": [
    "Negative number is not a correct value for the total sales count. Changing these values in sales count and review count to nan values"
   ]
  },
  {
   "cell_type": "code",
   "execution_count": 15,
   "metadata": {
    "ExecuteTime": {
     "end_time": "2020-03-14T16:32:04.256703Z",
     "start_time": "2020-03-14T16:32:04.240746Z"
    }
   },
   "outputs": [],
   "source": [
    "cols = ['sales_count', 'review_count']\n",
    "\n",
    "for col in cols:\n",
    "    data[col].replace(-99, np.nan, inplace = True)"
   ]
  },
  {
   "cell_type": "markdown",
   "metadata": {},
   "source": [
    "Checking if the change was applied:"
   ]
  },
  {
   "cell_type": "code",
   "execution_count": 16,
   "metadata": {
    "ExecuteTime": {
     "end_time": "2020-03-14T16:32:04.272661Z",
     "start_time": "2020-03-14T16:32:04.258699Z"
    }
   },
   "outputs": [
    {
     "data": {
      "text/html": [
       "<div>\n",
       "<style scoped>\n",
       "    .dataframe tbody tr th:only-of-type {\n",
       "        vertical-align: middle;\n",
       "    }\n",
       "\n",
       "    .dataframe tbody tr th {\n",
       "        vertical-align: top;\n",
       "    }\n",
       "\n",
       "    .dataframe thead th {\n",
       "        text-align: right;\n",
       "    }\n",
       "</style>\n",
       "<table border=\"1\" class=\"dataframe\">\n",
       "  <thead>\n",
       "    <tr style=\"text-align: right;\">\n",
       "      <th></th>\n",
       "      <th>creation_date</th>\n",
       "      <th>listing_active_count</th>\n",
       "      <th>num_favorers</th>\n",
       "      <th>currency_code</th>\n",
       "      <th>is_shop_us_based</th>\n",
       "      <th>sale_message</th>\n",
       "      <th>sales_count</th>\n",
       "      <th>review_count</th>\n",
       "      <th>shop_location</th>\n",
       "    </tr>\n",
       "  </thead>\n",
       "  <tbody>\n",
       "    <tr>\n",
       "      <td>0</td>\n",
       "      <td>19-Nov</td>\n",
       "      <td>3</td>\n",
       "      <td>1</td>\n",
       "      <td>USD</td>\n",
       "      <td>True</td>\n",
       "      <td>False</td>\n",
       "      <td>0.0</td>\n",
       "      <td>0.0</td>\n",
       "      <td>Kansas City, Missouri</td>\n",
       "    </tr>\n",
       "    <tr>\n",
       "      <td>1</td>\n",
       "      <td>19-Nov</td>\n",
       "      <td>13</td>\n",
       "      <td>1</td>\n",
       "      <td>AUD</td>\n",
       "      <td>False</td>\n",
       "      <td>False</td>\n",
       "      <td>2.0</td>\n",
       "      <td>0.0</td>\n",
       "      <td>NaN</td>\n",
       "    </tr>\n",
       "    <tr>\n",
       "      <td>2</td>\n",
       "      <td>19-Nov</td>\n",
       "      <td>0</td>\n",
       "      <td>0</td>\n",
       "      <td>USD</td>\n",
       "      <td>True</td>\n",
       "      <td>False</td>\n",
       "      <td>NaN</td>\n",
       "      <td>NaN</td>\n",
       "      <td>NaN</td>\n",
       "    </tr>\n",
       "    <tr>\n",
       "      <td>3</td>\n",
       "      <td>19-Nov</td>\n",
       "      <td>40</td>\n",
       "      <td>1</td>\n",
       "      <td>USD</td>\n",
       "      <td>False</td>\n",
       "      <td>False</td>\n",
       "      <td>0.0</td>\n",
       "      <td>0.0</td>\n",
       "      <td>Kharkiv, Ukraine</td>\n",
       "    </tr>\n",
       "    <tr>\n",
       "      <td>4</td>\n",
       "      <td>19-Nov</td>\n",
       "      <td>7</td>\n",
       "      <td>1</td>\n",
       "      <td>USD</td>\n",
       "      <td>True</td>\n",
       "      <td>False</td>\n",
       "      <td>0.0</td>\n",
       "      <td>0.0</td>\n",
       "      <td>New York, United States</td>\n",
       "    </tr>\n",
       "  </tbody>\n",
       "</table>\n",
       "</div>"
      ],
      "text/plain": [
       "  creation_date  listing_active_count  num_favorers currency_code  \\\n",
       "0        19-Nov                     3             1           USD   \n",
       "1        19-Nov                    13             1           AUD   \n",
       "2        19-Nov                     0             0           USD   \n",
       "3        19-Nov                    40             1           USD   \n",
       "4        19-Nov                     7             1           USD   \n",
       "\n",
       "   is_shop_us_based  sale_message  sales_count  review_count  \\\n",
       "0              True         False          0.0           0.0   \n",
       "1             False         False          2.0           0.0   \n",
       "2              True         False          NaN           NaN   \n",
       "3             False         False          0.0           0.0   \n",
       "4              True         False          0.0           0.0   \n",
       "\n",
       "             shop_location  \n",
       "0    Kansas City, Missouri  \n",
       "1                      NaN  \n",
       "2                      NaN  \n",
       "3         Kharkiv, Ukraine  \n",
       "4  New York, United States  "
      ]
     },
     "execution_count": 16,
     "metadata": {},
     "output_type": "execute_result"
    }
   ],
   "source": [
    "data.head()"
   ]
  },
  {
   "cell_type": "markdown",
   "metadata": {},
   "source": [
    "Checking the % of the missing values again:"
   ]
  },
  {
   "cell_type": "code",
   "execution_count": 17,
   "metadata": {
    "ExecuteTime": {
     "end_time": "2020-03-14T16:32:04.284629Z",
     "start_time": "2020-03-14T16:32:04.273658Z"
    }
   },
   "outputs": [
    {
     "data": {
      "text/html": [
       "<div>\n",
       "<style scoped>\n",
       "    .dataframe tbody tr th:only-of-type {\n",
       "        vertical-align: middle;\n",
       "    }\n",
       "\n",
       "    .dataframe tbody tr th {\n",
       "        vertical-align: top;\n",
       "    }\n",
       "\n",
       "    .dataframe thead th {\n",
       "        text-align: right;\n",
       "    }\n",
       "</style>\n",
       "<table border=\"1\" class=\"dataframe\">\n",
       "  <thead>\n",
       "    <tr style=\"text-align: right;\">\n",
       "      <th></th>\n",
       "      <th>column_name</th>\n",
       "      <th>percent_missing</th>\n",
       "    </tr>\n",
       "  </thead>\n",
       "  <tbody>\n",
       "    <tr>\n",
       "      <td>shop_location</td>\n",
       "      <td>shop_location</td>\n",
       "      <td>62.115529</td>\n",
       "    </tr>\n",
       "    <tr>\n",
       "      <td>sales_count</td>\n",
       "      <td>sales_count</td>\n",
       "      <td>7.706927</td>\n",
       "    </tr>\n",
       "    <tr>\n",
       "      <td>review_count</td>\n",
       "      <td>review_count</td>\n",
       "      <td>7.706927</td>\n",
       "    </tr>\n",
       "    <tr>\n",
       "      <td>creation_date</td>\n",
       "      <td>creation_date</td>\n",
       "      <td>0.000000</td>\n",
       "    </tr>\n",
       "    <tr>\n",
       "      <td>listing_active_count</td>\n",
       "      <td>listing_active_count</td>\n",
       "      <td>0.000000</td>\n",
       "    </tr>\n",
       "  </tbody>\n",
       "</table>\n",
       "</div>"
      ],
      "text/plain": [
       "                               column_name  percent_missing\n",
       "shop_location                shop_location        62.115529\n",
       "sales_count                    sales_count         7.706927\n",
       "review_count                  review_count         7.706927\n",
       "creation_date                creation_date         0.000000\n",
       "listing_active_count  listing_active_count         0.000000"
      ]
     },
     "execution_count": 17,
     "metadata": {},
     "output_type": "execute_result"
    }
   ],
   "source": [
    "percent_missing = data.isnull().sum() * 100 / len(data)\n",
    "missing_value_df = pd.DataFrame({'column_name': data.columns,\n",
    "                                 'percent_missing': percent_missing})\n",
    "\n",
    "missing_value_df.sort_values('percent_missing', inplace=True, ascending = False)\n",
    "missing_value_df.head()"
   ]
  },
  {
   "cell_type": "markdown",
   "metadata": {},
   "source": [
    "Sales count and reviews count have 7,7% of missing values"
   ]
  },
  {
   "cell_type": "code",
   "execution_count": 18,
   "metadata": {
    "ExecuteTime": {
     "end_time": "2020-03-14T16:32:04.294603Z",
     "start_time": "2020-03-14T16:32:04.285625Z"
    }
   },
   "outputs": [
    {
     "data": {
      "text/html": [
       "<div>\n",
       "<style scoped>\n",
       "    .dataframe tbody tr th:only-of-type {\n",
       "        vertical-align: middle;\n",
       "    }\n",
       "\n",
       "    .dataframe tbody tr th {\n",
       "        vertical-align: top;\n",
       "    }\n",
       "\n",
       "    .dataframe thead th {\n",
       "        text-align: right;\n",
       "    }\n",
       "</style>\n",
       "<table border=\"1\" class=\"dataframe\">\n",
       "  <thead>\n",
       "    <tr style=\"text-align: right;\">\n",
       "      <th></th>\n",
       "      <th>creation_date</th>\n",
       "      <th>listing_active_count</th>\n",
       "      <th>num_favorers</th>\n",
       "      <th>currency_code</th>\n",
       "      <th>is_shop_us_based</th>\n",
       "      <th>sale_message</th>\n",
       "      <th>sales_count</th>\n",
       "      <th>review_count</th>\n",
       "      <th>shop_location</th>\n",
       "    </tr>\n",
       "  </thead>\n",
       "  <tbody>\n",
       "    <tr>\n",
       "      <td>0</td>\n",
       "      <td>19-Nov</td>\n",
       "      <td>3</td>\n",
       "      <td>1</td>\n",
       "      <td>USD</td>\n",
       "      <td>True</td>\n",
       "      <td>False</td>\n",
       "      <td>0.0</td>\n",
       "      <td>0.0</td>\n",
       "      <td>Kansas City, Missouri</td>\n",
       "    </tr>\n",
       "    <tr>\n",
       "      <td>1</td>\n",
       "      <td>19-Nov</td>\n",
       "      <td>13</td>\n",
       "      <td>1</td>\n",
       "      <td>AUD</td>\n",
       "      <td>False</td>\n",
       "      <td>False</td>\n",
       "      <td>2.0</td>\n",
       "      <td>0.0</td>\n",
       "      <td>NaN</td>\n",
       "    </tr>\n",
       "    <tr>\n",
       "      <td>2</td>\n",
       "      <td>19-Nov</td>\n",
       "      <td>0</td>\n",
       "      <td>0</td>\n",
       "      <td>USD</td>\n",
       "      <td>True</td>\n",
       "      <td>False</td>\n",
       "      <td>NaN</td>\n",
       "      <td>NaN</td>\n",
       "      <td>NaN</td>\n",
       "    </tr>\n",
       "    <tr>\n",
       "      <td>3</td>\n",
       "      <td>19-Nov</td>\n",
       "      <td>40</td>\n",
       "      <td>1</td>\n",
       "      <td>USD</td>\n",
       "      <td>False</td>\n",
       "      <td>False</td>\n",
       "      <td>0.0</td>\n",
       "      <td>0.0</td>\n",
       "      <td>Kharkiv, Ukraine</td>\n",
       "    </tr>\n",
       "    <tr>\n",
       "      <td>4</td>\n",
       "      <td>19-Nov</td>\n",
       "      <td>7</td>\n",
       "      <td>1</td>\n",
       "      <td>USD</td>\n",
       "      <td>True</td>\n",
       "      <td>False</td>\n",
       "      <td>0.0</td>\n",
       "      <td>0.0</td>\n",
       "      <td>New York, United States</td>\n",
       "    </tr>\n",
       "  </tbody>\n",
       "</table>\n",
       "</div>"
      ],
      "text/plain": [
       "  creation_date  listing_active_count  num_favorers currency_code  \\\n",
       "0        19-Nov                     3             1           USD   \n",
       "1        19-Nov                    13             1           AUD   \n",
       "2        19-Nov                     0             0           USD   \n",
       "3        19-Nov                    40             1           USD   \n",
       "4        19-Nov                     7             1           USD   \n",
       "\n",
       "   is_shop_us_based  sale_message  sales_count  review_count  \\\n",
       "0              True         False          0.0           0.0   \n",
       "1             False         False          2.0           0.0   \n",
       "2              True         False          NaN           NaN   \n",
       "3             False         False          0.0           0.0   \n",
       "4              True         False          0.0           0.0   \n",
       "\n",
       "             shop_location  \n",
       "0    Kansas City, Missouri  \n",
       "1                      NaN  \n",
       "2                      NaN  \n",
       "3         Kharkiv, Ukraine  \n",
       "4  New York, United States  "
      ]
     },
     "execution_count": 18,
     "metadata": {},
     "output_type": "execute_result"
    }
   ],
   "source": [
    "data.head()"
   ]
  },
  {
   "cell_type": "markdown",
   "metadata": {},
   "source": [
    "## Distribution of the data"
   ]
  },
  {
   "cell_type": "markdown",
   "metadata": {},
   "source": [
    "Checking the main statistics of the dataset:"
   ]
  },
  {
   "cell_type": "code",
   "execution_count": 19,
   "metadata": {
    "ExecuteTime": {
     "end_time": "2020-03-14T16:32:04.316550Z",
     "start_time": "2020-03-14T16:32:04.295599Z"
    }
   },
   "outputs": [
    {
     "data": {
      "text/html": [
       "<div>\n",
       "<style scoped>\n",
       "    .dataframe tbody tr th:only-of-type {\n",
       "        vertical-align: middle;\n",
       "    }\n",
       "\n",
       "    .dataframe tbody tr th {\n",
       "        vertical-align: top;\n",
       "    }\n",
       "\n",
       "    .dataframe thead th {\n",
       "        text-align: right;\n",
       "    }\n",
       "</style>\n",
       "<table border=\"1\" class=\"dataframe\">\n",
       "  <thead>\n",
       "    <tr style=\"text-align: right;\">\n",
       "      <th></th>\n",
       "      <th>listing_active_count</th>\n",
       "      <th>num_favorers</th>\n",
       "      <th>sales_count</th>\n",
       "      <th>review_count</th>\n",
       "    </tr>\n",
       "  </thead>\n",
       "  <tbody>\n",
       "    <tr>\n",
       "      <td>count</td>\n",
       "      <td>19995.0</td>\n",
       "      <td>19995.0</td>\n",
       "      <td>18454.0</td>\n",
       "      <td>18454.0</td>\n",
       "    </tr>\n",
       "    <tr>\n",
       "      <td>mean</td>\n",
       "      <td>7.3</td>\n",
       "      <td>1.0</td>\n",
       "      <td>2.2</td>\n",
       "      <td>0.1</td>\n",
       "    </tr>\n",
       "    <tr>\n",
       "      <td>std</td>\n",
       "      <td>24.6</td>\n",
       "      <td>4.1</td>\n",
       "      <td>27.9</td>\n",
       "      <td>0.8</td>\n",
       "    </tr>\n",
       "    <tr>\n",
       "      <td>min</td>\n",
       "      <td>0.0</td>\n",
       "      <td>0.0</td>\n",
       "      <td>0.0</td>\n",
       "      <td>0.0</td>\n",
       "    </tr>\n",
       "    <tr>\n",
       "      <td>25%</td>\n",
       "      <td>1.0</td>\n",
       "      <td>0.0</td>\n",
       "      <td>0.0</td>\n",
       "      <td>0.0</td>\n",
       "    </tr>\n",
       "    <tr>\n",
       "      <td>50%</td>\n",
       "      <td>2.0</td>\n",
       "      <td>0.0</td>\n",
       "      <td>0.0</td>\n",
       "      <td>0.0</td>\n",
       "    </tr>\n",
       "    <tr>\n",
       "      <td>75%</td>\n",
       "      <td>7.0</td>\n",
       "      <td>1.0</td>\n",
       "      <td>0.0</td>\n",
       "      <td>0.0</td>\n",
       "    </tr>\n",
       "    <tr>\n",
       "      <td>max</td>\n",
       "      <td>1749.0</td>\n",
       "      <td>223.0</td>\n",
       "      <td>2216.0</td>\n",
       "      <td>58.0</td>\n",
       "    </tr>\n",
       "  </tbody>\n",
       "</table>\n",
       "</div>"
      ],
      "text/plain": [
       "       listing_active_count  num_favorers  sales_count  review_count\n",
       "count               19995.0       19995.0      18454.0       18454.0\n",
       "mean                    7.3           1.0          2.2           0.1\n",
       "std                    24.6           4.1         27.9           0.8\n",
       "min                     0.0           0.0          0.0           0.0\n",
       "25%                     1.0           0.0          0.0           0.0\n",
       "50%                     2.0           0.0          0.0           0.0\n",
       "75%                     7.0           1.0          0.0           0.0\n",
       "max                  1749.0         223.0       2216.0          58.0"
      ]
     },
     "execution_count": 19,
     "metadata": {},
     "output_type": "execute_result"
    }
   ],
   "source": [
    "round(data.describe(), 1)"
   ]
  },
  {
   "cell_type": "markdown",
   "metadata": {},
   "source": [
    "Interestingly, there are new shops that are very far away from the average, having already 2216 sales. "
   ]
  },
  {
   "cell_type": "markdown",
   "metadata": {},
   "source": [
    "### Distribution of sales per country"
   ]
  },
  {
   "cell_type": "markdown",
   "metadata": {},
   "source": [
    "Let's take a look at the distribution of sales per shop location. Remember, we only have ~40% of the shop locations so the data doesn't represent the majority of our dataset. But it's still interesting to see if maybe we have some differences per country."
   ]
  },
  {
   "cell_type": "markdown",
   "metadata": {},
   "source": [
    "First, to have a better grouping, let's create another column for country/state:"
   ]
  },
  {
   "cell_type": "code",
   "execution_count": 20,
   "metadata": {
    "ExecuteTime": {
     "end_time": "2020-03-14T16:32:04.346463Z",
     "start_time": "2020-03-14T16:32:04.317540Z"
    }
   },
   "outputs": [],
   "source": [
    "colnames = ['city','country_state']\n",
    "location_split=pd.DataFrame(data['shop_location'].str.split(', ', expand = True))\n",
    "location_split.columns=colnames\n",
    "\n",
    "data['country_state'] = location_split['country_state']"
   ]
  },
  {
   "cell_type": "code",
   "execution_count": 21,
   "metadata": {
    "ExecuteTime": {
     "end_time": "2020-03-14T16:32:05.172843Z",
     "start_time": "2020-03-14T16:32:04.347460Z"
    }
   },
   "outputs": [
    {
     "data": {
      "application/vnd.plotly.v1+json": {
       "config": {
        "linkText": "Export to plot.ly",
        "plotlyServerURL": "https://plot.ly",
        "showLink": true
       },
       "data": [
        {
         "marker": {
          "color": "rgba(255, 153, 51, 0.6)",
          "line": {
           "color": "rgba(255, 153, 51, 1.0)",
           "width": 1
          }
         },
         "name": "sales_count",
         "orientation": "v",
         "text": "",
         "type": "bar",
         "x": [
          "Alabama",
          "Alaska",
          "Albania",
          "Andorra",
          "Argentina",
          "Arizona",
          "Arkansas",
          "Armenia",
          "Australia",
          "Austria",
          "Azerbaijan",
          "Belarus",
          "Belgium",
          "Bosnia and Herzegovina",
          "Brazil",
          "Bulgaria",
          "California",
          "Cambodia",
          "Cameroon",
          "Canada",
          "Chile",
          "China",
          "Colombia",
          "Colorado",
          "Connecticut",
          "Croatia",
          "Cyprus",
          "Czechia",
          "D.C.",
          "Delaware",
          "Denmark",
          "Ecuador",
          "Egypt",
          "Estonia",
          "Finland",
          "Florida",
          "France",
          "Georgia",
          "Germany",
          "Ghana",
          "Greece",
          "Hawaii",
          "Hong Kong",
          "Hungary",
          "Iceland",
          "Idaho",
          "Illinois",
          "India",
          "Indiana",
          "Indonesia",
          "Iowa",
          "Ireland",
          "Israel",
          "Italy",
          "Jamaica",
          "Japan",
          "Kansas",
          "Kazakhstan",
          "Kentucky",
          "Kenya",
          "Kosovo",
          "Latvia",
          "Lebanon",
          "Lithuania",
          "Louisiana",
          "Maine",
          "Malaysia",
          "Malta",
          "Maryland",
          "Massachusetts",
          "Mexico",
          "Michigan",
          "Minnesota",
          "Mississippi",
          "Missouri",
          "Moldova",
          "Monaco",
          "Montana",
          "Montenegro",
          "Morocco",
          "Nebraska",
          "Nepal",
          "Nevada",
          "New Hampshire",
          "New Jersey",
          "New Mexico",
          "New York",
          "New Zealand",
          "Nigeria",
          "North Carolina",
          "North Dakota",
          "North Macedonia",
          "Norway",
          "Ohio",
          "Oklahoma",
          "Oregon",
          "Pakistan",
          "Pennsylvania",
          "Peru",
          "Philippines",
          "Poland",
          "Portugal",
          "Puerto Rico",
          "Rhode Island",
          "Romania",
          "Russia",
          "Saint Lucia",
          "Saudi Arabia",
          "Serbia",
          "Slovakia",
          "Slovenia",
          "South Africa",
          "South Carolina",
          "South Dakota",
          "South Korea",
          "Spain",
          "Sri Lanka",
          "Suriname",
          "Sweden",
          "Switzerland",
          "Taiwan",
          "Tanzania",
          "Tennessee",
          "Texas",
          "Thailand",
          "The Netherlands",
          "Turkey",
          "Uganda",
          "Ukraine",
          "United Arab Emirates",
          "United Kingdom",
          "United States",
          "Uruguay",
          "Utah",
          "Vermont",
          "Vietnam",
          "Virginia",
          "Washington",
          "West Virginia",
          "Wisconsin",
          "Wyoming",
          "Zimbabwe",
          "Åland"
         ],
         "y": [
          80,
          1,
          0,
          2,
          0,
          103,
          43,
          2,
          318,
          4,
          0,
          2,
          99,
          0,
          3,
          30,
          1410,
          0,
          3,
          567,
          2,
          21,
          0,
          241,
          49,
          5,
          0,
          6,
          38,
          17,
          3,
          2,
          0,
          1,
          9,
          993,
          356,
          273,
          273,
          1,
          4,
          70,
          44,
          3,
          0,
          27,
          376,
          166,
          32,
          5,
          34,
          151,
          10,
          96,
          3,
          4,
          26,
          0,
          161,
          0,
          0,
          9,
          0,
          14,
          20,
          16,
          11,
          0,
          51,
          145,
          2,
          225,
          48,
          22,
          77,
          0,
          0,
          9,
          0,
          7,
          30,
          3,
          160,
          21,
          181,
          52,
          1623,
          4,
          0,
          1792,
          0,
          0,
          9,
          663,
          64,
          195,
          0,
          540,
          2,
          7,
          58,
          186,
          0,
          26,
          123,
          105,
          0,
          0,
          8,
          4,
          3,
          11,
          112,
          15,
          8,
          97,
          0,
          0,
          6,
          25,
          0,
          4,
          239,
          650,
          13,
          20,
          58,
          0,
          108,
          0,
          1898,
          1610,
          0,
          265,
          12,
          1,
          444,
          311,
          67,
          145,
          1,
          0,
          0
         ]
        }
       ],
       "layout": {
        "legend": {
         "bgcolor": "#F5F6F9",
         "font": {
          "color": "#4D5663"
         }
        },
        "paper_bgcolor": "#F5F6F9",
        "plot_bgcolor": "#F5F6F9",
        "template": {
         "data": {
          "bar": [
           {
            "error_x": {
             "color": "#2a3f5f"
            },
            "error_y": {
             "color": "#2a3f5f"
            },
            "marker": {
             "line": {
              "color": "#E5ECF6",
              "width": 0.5
             }
            },
            "type": "bar"
           }
          ],
          "barpolar": [
           {
            "marker": {
             "line": {
              "color": "#E5ECF6",
              "width": 0.5
             }
            },
            "type": "barpolar"
           }
          ],
          "carpet": [
           {
            "aaxis": {
             "endlinecolor": "#2a3f5f",
             "gridcolor": "white",
             "linecolor": "white",
             "minorgridcolor": "white",
             "startlinecolor": "#2a3f5f"
            },
            "baxis": {
             "endlinecolor": "#2a3f5f",
             "gridcolor": "white",
             "linecolor": "white",
             "minorgridcolor": "white",
             "startlinecolor": "#2a3f5f"
            },
            "type": "carpet"
           }
          ],
          "choropleth": [
           {
            "colorbar": {
             "outlinewidth": 0,
             "ticks": ""
            },
            "type": "choropleth"
           }
          ],
          "contour": [
           {
            "colorbar": {
             "outlinewidth": 0,
             "ticks": ""
            },
            "colorscale": [
             [
              0,
              "#0d0887"
             ],
             [
              0.1111111111111111,
              "#46039f"
             ],
             [
              0.2222222222222222,
              "#7201a8"
             ],
             [
              0.3333333333333333,
              "#9c179e"
             ],
             [
              0.4444444444444444,
              "#bd3786"
             ],
             [
              0.5555555555555556,
              "#d8576b"
             ],
             [
              0.6666666666666666,
              "#ed7953"
             ],
             [
              0.7777777777777778,
              "#fb9f3a"
             ],
             [
              0.8888888888888888,
              "#fdca26"
             ],
             [
              1,
              "#f0f921"
             ]
            ],
            "type": "contour"
           }
          ],
          "contourcarpet": [
           {
            "colorbar": {
             "outlinewidth": 0,
             "ticks": ""
            },
            "type": "contourcarpet"
           }
          ],
          "heatmap": [
           {
            "colorbar": {
             "outlinewidth": 0,
             "ticks": ""
            },
            "colorscale": [
             [
              0,
              "#0d0887"
             ],
             [
              0.1111111111111111,
              "#46039f"
             ],
             [
              0.2222222222222222,
              "#7201a8"
             ],
             [
              0.3333333333333333,
              "#9c179e"
             ],
             [
              0.4444444444444444,
              "#bd3786"
             ],
             [
              0.5555555555555556,
              "#d8576b"
             ],
             [
              0.6666666666666666,
              "#ed7953"
             ],
             [
              0.7777777777777778,
              "#fb9f3a"
             ],
             [
              0.8888888888888888,
              "#fdca26"
             ],
             [
              1,
              "#f0f921"
             ]
            ],
            "type": "heatmap"
           }
          ],
          "heatmapgl": [
           {
            "colorbar": {
             "outlinewidth": 0,
             "ticks": ""
            },
            "colorscale": [
             [
              0,
              "#0d0887"
             ],
             [
              0.1111111111111111,
              "#46039f"
             ],
             [
              0.2222222222222222,
              "#7201a8"
             ],
             [
              0.3333333333333333,
              "#9c179e"
             ],
             [
              0.4444444444444444,
              "#bd3786"
             ],
             [
              0.5555555555555556,
              "#d8576b"
             ],
             [
              0.6666666666666666,
              "#ed7953"
             ],
             [
              0.7777777777777778,
              "#fb9f3a"
             ],
             [
              0.8888888888888888,
              "#fdca26"
             ],
             [
              1,
              "#f0f921"
             ]
            ],
            "type": "heatmapgl"
           }
          ],
          "histogram": [
           {
            "marker": {
             "colorbar": {
              "outlinewidth": 0,
              "ticks": ""
             }
            },
            "type": "histogram"
           }
          ],
          "histogram2d": [
           {
            "colorbar": {
             "outlinewidth": 0,
             "ticks": ""
            },
            "colorscale": [
             [
              0,
              "#0d0887"
             ],
             [
              0.1111111111111111,
              "#46039f"
             ],
             [
              0.2222222222222222,
              "#7201a8"
             ],
             [
              0.3333333333333333,
              "#9c179e"
             ],
             [
              0.4444444444444444,
              "#bd3786"
             ],
             [
              0.5555555555555556,
              "#d8576b"
             ],
             [
              0.6666666666666666,
              "#ed7953"
             ],
             [
              0.7777777777777778,
              "#fb9f3a"
             ],
             [
              0.8888888888888888,
              "#fdca26"
             ],
             [
              1,
              "#f0f921"
             ]
            ],
            "type": "histogram2d"
           }
          ],
          "histogram2dcontour": [
           {
            "colorbar": {
             "outlinewidth": 0,
             "ticks": ""
            },
            "colorscale": [
             [
              0,
              "#0d0887"
             ],
             [
              0.1111111111111111,
              "#46039f"
             ],
             [
              0.2222222222222222,
              "#7201a8"
             ],
             [
              0.3333333333333333,
              "#9c179e"
             ],
             [
              0.4444444444444444,
              "#bd3786"
             ],
             [
              0.5555555555555556,
              "#d8576b"
             ],
             [
              0.6666666666666666,
              "#ed7953"
             ],
             [
              0.7777777777777778,
              "#fb9f3a"
             ],
             [
              0.8888888888888888,
              "#fdca26"
             ],
             [
              1,
              "#f0f921"
             ]
            ],
            "type": "histogram2dcontour"
           }
          ],
          "mesh3d": [
           {
            "colorbar": {
             "outlinewidth": 0,
             "ticks": ""
            },
            "type": "mesh3d"
           }
          ],
          "parcoords": [
           {
            "line": {
             "colorbar": {
              "outlinewidth": 0,
              "ticks": ""
             }
            },
            "type": "parcoords"
           }
          ],
          "pie": [
           {
            "automargin": true,
            "type": "pie"
           }
          ],
          "scatter": [
           {
            "marker": {
             "colorbar": {
              "outlinewidth": 0,
              "ticks": ""
             }
            },
            "type": "scatter"
           }
          ],
          "scatter3d": [
           {
            "line": {
             "colorbar": {
              "outlinewidth": 0,
              "ticks": ""
             }
            },
            "marker": {
             "colorbar": {
              "outlinewidth": 0,
              "ticks": ""
             }
            },
            "type": "scatter3d"
           }
          ],
          "scattercarpet": [
           {
            "marker": {
             "colorbar": {
              "outlinewidth": 0,
              "ticks": ""
             }
            },
            "type": "scattercarpet"
           }
          ],
          "scattergeo": [
           {
            "marker": {
             "colorbar": {
              "outlinewidth": 0,
              "ticks": ""
             }
            },
            "type": "scattergeo"
           }
          ],
          "scattergl": [
           {
            "marker": {
             "colorbar": {
              "outlinewidth": 0,
              "ticks": ""
             }
            },
            "type": "scattergl"
           }
          ],
          "scattermapbox": [
           {
            "marker": {
             "colorbar": {
              "outlinewidth": 0,
              "ticks": ""
             }
            },
            "type": "scattermapbox"
           }
          ],
          "scatterpolar": [
           {
            "marker": {
             "colorbar": {
              "outlinewidth": 0,
              "ticks": ""
             }
            },
            "type": "scatterpolar"
           }
          ],
          "scatterpolargl": [
           {
            "marker": {
             "colorbar": {
              "outlinewidth": 0,
              "ticks": ""
             }
            },
            "type": "scatterpolargl"
           }
          ],
          "scatterternary": [
           {
            "marker": {
             "colorbar": {
              "outlinewidth": 0,
              "ticks": ""
             }
            },
            "type": "scatterternary"
           }
          ],
          "surface": [
           {
            "colorbar": {
             "outlinewidth": 0,
             "ticks": ""
            },
            "colorscale": [
             [
              0,
              "#0d0887"
             ],
             [
              0.1111111111111111,
              "#46039f"
             ],
             [
              0.2222222222222222,
              "#7201a8"
             ],
             [
              0.3333333333333333,
              "#9c179e"
             ],
             [
              0.4444444444444444,
              "#bd3786"
             ],
             [
              0.5555555555555556,
              "#d8576b"
             ],
             [
              0.6666666666666666,
              "#ed7953"
             ],
             [
              0.7777777777777778,
              "#fb9f3a"
             ],
             [
              0.8888888888888888,
              "#fdca26"
             ],
             [
              1,
              "#f0f921"
             ]
            ],
            "type": "surface"
           }
          ],
          "table": [
           {
            "cells": {
             "fill": {
              "color": "#EBF0F8"
             },
             "line": {
              "color": "white"
             }
            },
            "header": {
             "fill": {
              "color": "#C8D4E3"
             },
             "line": {
              "color": "white"
             }
            },
            "type": "table"
           }
          ]
         },
         "layout": {
          "annotationdefaults": {
           "arrowcolor": "#2a3f5f",
           "arrowhead": 0,
           "arrowwidth": 1
          },
          "coloraxis": {
           "colorbar": {
            "outlinewidth": 0,
            "ticks": ""
           }
          },
          "colorscale": {
           "diverging": [
            [
             0,
             "#8e0152"
            ],
            [
             0.1,
             "#c51b7d"
            ],
            [
             0.2,
             "#de77ae"
            ],
            [
             0.3,
             "#f1b6da"
            ],
            [
             0.4,
             "#fde0ef"
            ],
            [
             0.5,
             "#f7f7f7"
            ],
            [
             0.6,
             "#e6f5d0"
            ],
            [
             0.7,
             "#b8e186"
            ],
            [
             0.8,
             "#7fbc41"
            ],
            [
             0.9,
             "#4d9221"
            ],
            [
             1,
             "#276419"
            ]
           ],
           "sequential": [
            [
             0,
             "#0d0887"
            ],
            [
             0.1111111111111111,
             "#46039f"
            ],
            [
             0.2222222222222222,
             "#7201a8"
            ],
            [
             0.3333333333333333,
             "#9c179e"
            ],
            [
             0.4444444444444444,
             "#bd3786"
            ],
            [
             0.5555555555555556,
             "#d8576b"
            ],
            [
             0.6666666666666666,
             "#ed7953"
            ],
            [
             0.7777777777777778,
             "#fb9f3a"
            ],
            [
             0.8888888888888888,
             "#fdca26"
            ],
            [
             1,
             "#f0f921"
            ]
           ],
           "sequentialminus": [
            [
             0,
             "#0d0887"
            ],
            [
             0.1111111111111111,
             "#46039f"
            ],
            [
             0.2222222222222222,
             "#7201a8"
            ],
            [
             0.3333333333333333,
             "#9c179e"
            ],
            [
             0.4444444444444444,
             "#bd3786"
            ],
            [
             0.5555555555555556,
             "#d8576b"
            ],
            [
             0.6666666666666666,
             "#ed7953"
            ],
            [
             0.7777777777777778,
             "#fb9f3a"
            ],
            [
             0.8888888888888888,
             "#fdca26"
            ],
            [
             1,
             "#f0f921"
            ]
           ]
          },
          "colorway": [
           "#636efa",
           "#EF553B",
           "#00cc96",
           "#ab63fa",
           "#FFA15A",
           "#19d3f3",
           "#FF6692",
           "#B6E880",
           "#FF97FF",
           "#FECB52"
          ],
          "font": {
           "color": "#2a3f5f"
          },
          "geo": {
           "bgcolor": "white",
           "lakecolor": "white",
           "landcolor": "#E5ECF6",
           "showlakes": true,
           "showland": true,
           "subunitcolor": "white"
          },
          "hoverlabel": {
           "align": "left"
          },
          "hovermode": "closest",
          "mapbox": {
           "style": "light"
          },
          "paper_bgcolor": "white",
          "plot_bgcolor": "#E5ECF6",
          "polar": {
           "angularaxis": {
            "gridcolor": "white",
            "linecolor": "white",
            "ticks": ""
           },
           "bgcolor": "#E5ECF6",
           "radialaxis": {
            "gridcolor": "white",
            "linecolor": "white",
            "ticks": ""
           }
          },
          "scene": {
           "xaxis": {
            "backgroundcolor": "#E5ECF6",
            "gridcolor": "white",
            "gridwidth": 2,
            "linecolor": "white",
            "showbackground": true,
            "ticks": "",
            "zerolinecolor": "white"
           },
           "yaxis": {
            "backgroundcolor": "#E5ECF6",
            "gridcolor": "white",
            "gridwidth": 2,
            "linecolor": "white",
            "showbackground": true,
            "ticks": "",
            "zerolinecolor": "white"
           },
           "zaxis": {
            "backgroundcolor": "#E5ECF6",
            "gridcolor": "white",
            "gridwidth": 2,
            "linecolor": "white",
            "showbackground": true,
            "ticks": "",
            "zerolinecolor": "white"
           }
          },
          "shapedefaults": {
           "line": {
            "color": "#2a3f5f"
           }
          },
          "ternary": {
           "aaxis": {
            "gridcolor": "white",
            "linecolor": "white",
            "ticks": ""
           },
           "baxis": {
            "gridcolor": "white",
            "linecolor": "white",
            "ticks": ""
           },
           "bgcolor": "#E5ECF6",
           "caxis": {
            "gridcolor": "white",
            "linecolor": "white",
            "ticks": ""
           }
          },
          "title": {
           "x": 0.05
          },
          "xaxis": {
           "automargin": true,
           "gridcolor": "white",
           "linecolor": "white",
           "ticks": "",
           "title": {
            "standoff": 15
           },
           "zerolinecolor": "white",
           "zerolinewidth": 2
          },
          "yaxis": {
           "automargin": true,
           "gridcolor": "white",
           "linecolor": "white",
           "ticks": "",
           "title": {
            "standoff": 15
           },
           "zerolinecolor": "white",
           "zerolinewidth": 2
          }
         }
        },
        "title": {
         "font": {
          "color": "#4D5663"
         }
        },
        "xaxis": {
         "gridcolor": "#E1E5ED",
         "showgrid": true,
         "tickfont": {
          "color": "#4D5663"
         },
         "title": {
          "font": {
           "color": "#4D5663"
          },
          "text": ""
         },
         "zerolinecolor": "#E1E5ED"
        },
        "yaxis": {
         "gridcolor": "#E1E5ED",
         "showgrid": true,
         "tickfont": {
          "color": "#4D5663"
         },
         "title": {
          "font": {
           "color": "#4D5663"
          },
          "text": ""
         },
         "zerolinecolor": "#E1E5ED"
        }
       }
      },
      "text/html": [
       "<div>\n",
       "        \n",
       "        \n",
       "            <div id=\"6de8e461-d574-4fcd-9649-2b78e1203ed0\" class=\"plotly-graph-div\" style=\"height:525px; width:100%;\"></div>\n",
       "            <script type=\"text/javascript\">\n",
       "                require([\"plotly\"], function(Plotly) {\n",
       "                    window.PLOTLYENV=window.PLOTLYENV || {};\n",
       "                    window.PLOTLYENV.BASE_URL='https://plot.ly';\n",
       "                    \n",
       "                if (document.getElementById(\"6de8e461-d574-4fcd-9649-2b78e1203ed0\")) {\n",
       "                    Plotly.newPlot(\n",
       "                        '6de8e461-d574-4fcd-9649-2b78e1203ed0',\n",
       "                        [{\"marker\": {\"color\": \"rgba(255, 153, 51, 0.6)\", \"line\": {\"color\": \"rgba(255, 153, 51, 1.0)\", \"width\": 1}}, \"name\": \"sales_count\", \"orientation\": \"v\", \"text\": \"\", \"type\": \"bar\", \"x\": [\"Alabama\", \"Alaska\", \"Albania\", \"Andorra\", \"Argentina\", \"Arizona\", \"Arkansas\", \"Armenia\", \"Australia\", \"Austria\", \"Azerbaijan\", \"Belarus\", \"Belgium\", \"Bosnia and Herzegovina\", \"Brazil\", \"Bulgaria\", \"California\", \"Cambodia\", \"Cameroon\", \"Canada\", \"Chile\", \"China\", \"Colombia\", \"Colorado\", \"Connecticut\", \"Croatia\", \"Cyprus\", \"Czechia\", \"D.C.\", \"Delaware\", \"Denmark\", \"Ecuador\", \"Egypt\", \"Estonia\", \"Finland\", \"Florida\", \"France\", \"Georgia\", \"Germany\", \"Ghana\", \"Greece\", \"Hawaii\", \"Hong Kong\", \"Hungary\", \"Iceland\", \"Idaho\", \"Illinois\", \"India\", \"Indiana\", \"Indonesia\", \"Iowa\", \"Ireland\", \"Israel\", \"Italy\", \"Jamaica\", \"Japan\", \"Kansas\", \"Kazakhstan\", \"Kentucky\", \"Kenya\", \"Kosovo\", \"Latvia\", \"Lebanon\", \"Lithuania\", \"Louisiana\", \"Maine\", \"Malaysia\", \"Malta\", \"Maryland\", \"Massachusetts\", \"Mexico\", \"Michigan\", \"Minnesota\", \"Mississippi\", \"Missouri\", \"Moldova\", \"Monaco\", \"Montana\", \"Montenegro\", \"Morocco\", \"Nebraska\", \"Nepal\", \"Nevada\", \"New Hampshire\", \"New Jersey\", \"New Mexico\", \"New York\", \"New Zealand\", \"Nigeria\", \"North Carolina\", \"North Dakota\", \"North Macedonia\", \"Norway\", \"Ohio\", \"Oklahoma\", \"Oregon\", \"Pakistan\", \"Pennsylvania\", \"Peru\", \"Philippines\", \"Poland\", \"Portugal\", \"Puerto Rico\", \"Rhode Island\", \"Romania\", \"Russia\", \"Saint Lucia\", \"Saudi Arabia\", \"Serbia\", \"Slovakia\", \"Slovenia\", \"South Africa\", \"South Carolina\", \"South Dakota\", \"South Korea\", \"Spain\", \"Sri Lanka\", \"Suriname\", \"Sweden\", \"Switzerland\", \"Taiwan\", \"Tanzania\", \"Tennessee\", \"Texas\", \"Thailand\", \"The Netherlands\", \"Turkey\", \"Uganda\", \"Ukraine\", \"United Arab Emirates\", \"United Kingdom\", \"United States\", \"Uruguay\", \"Utah\", \"Vermont\", \"Vietnam\", \"Virginia\", \"Washington\", \"West Virginia\", \"Wisconsin\", \"Wyoming\", \"Zimbabwe\", \"\\u00c5land\"], \"y\": [80.0, 1.0, 0.0, 2.0, 0.0, 103.0, 43.0, 2.0, 318.0, 4.0, 0.0, 2.0, 99.0, 0.0, 3.0, 30.0, 1410.0, 0.0, 3.0, 567.0, 2.0, 21.0, 0.0, 241.0, 49.0, 5.0, 0.0, 6.0, 38.0, 17.0, 3.0, 2.0, 0.0, 1.0, 9.0, 993.0, 356.0, 273.0, 273.0, 1.0, 4.0, 70.0, 44.0, 3.0, 0.0, 27.0, 376.0, 166.0, 32.0, 5.0, 34.0, 151.0, 10.0, 96.0, 3.0, 4.0, 26.0, 0.0, 161.0, 0.0, 0.0, 9.0, 0.0, 14.0, 20.0, 16.0, 11.0, 0.0, 51.0, 145.0, 2.0, 225.0, 48.0, 22.0, 77.0, 0.0, 0.0, 9.0, 0.0, 7.0, 30.0, 3.0, 160.0, 21.0, 181.0, 52.0, 1623.0, 4.0, 0.0, 1792.0, 0.0, 0.0, 9.0, 663.0, 64.0, 195.0, 0.0, 540.0, 2.0, 7.0, 58.0, 186.0, 0.0, 26.0, 123.0, 105.0, 0.0, 0.0, 8.0, 4.0, 3.0, 11.0, 112.0, 15.0, 8.0, 97.0, 0.0, 0.0, 6.0, 25.0, 0.0, 4.0, 239.0, 650.0, 13.0, 20.0, 58.0, 0.0, 108.0, 0.0, 1898.0, 1610.0, 0.0, 265.0, 12.0, 1.0, 444.0, 311.0, 67.0, 145.0, 1.0, 0.0, 0.0]}],\n",
       "                        {\"legend\": {\"bgcolor\": \"#F5F6F9\", \"font\": {\"color\": \"#4D5663\"}}, \"paper_bgcolor\": \"#F5F6F9\", \"plot_bgcolor\": \"#F5F6F9\", \"template\": {\"data\": {\"bar\": [{\"error_x\": {\"color\": \"#2a3f5f\"}, \"error_y\": {\"color\": \"#2a3f5f\"}, \"marker\": {\"line\": {\"color\": \"#E5ECF6\", \"width\": 0.5}}, \"type\": \"bar\"}], \"barpolar\": [{\"marker\": {\"line\": {\"color\": \"#E5ECF6\", \"width\": 0.5}}, \"type\": \"barpolar\"}], \"carpet\": [{\"aaxis\": {\"endlinecolor\": \"#2a3f5f\", \"gridcolor\": \"white\", \"linecolor\": \"white\", \"minorgridcolor\": \"white\", \"startlinecolor\": \"#2a3f5f\"}, \"baxis\": {\"endlinecolor\": \"#2a3f5f\", \"gridcolor\": \"white\", \"linecolor\": \"white\", \"minorgridcolor\": \"white\", \"startlinecolor\": \"#2a3f5f\"}, \"type\": \"carpet\"}], \"choropleth\": [{\"colorbar\": {\"outlinewidth\": 0, \"ticks\": \"\"}, \"type\": \"choropleth\"}], \"contour\": [{\"colorbar\": {\"outlinewidth\": 0, \"ticks\": \"\"}, \"colorscale\": [[0.0, \"#0d0887\"], [0.1111111111111111, \"#46039f\"], [0.2222222222222222, \"#7201a8\"], [0.3333333333333333, \"#9c179e\"], [0.4444444444444444, \"#bd3786\"], [0.5555555555555556, \"#d8576b\"], [0.6666666666666666, \"#ed7953\"], [0.7777777777777778, \"#fb9f3a\"], [0.8888888888888888, \"#fdca26\"], [1.0, \"#f0f921\"]], \"type\": \"contour\"}], \"contourcarpet\": [{\"colorbar\": {\"outlinewidth\": 0, \"ticks\": \"\"}, \"type\": \"contourcarpet\"}], \"heatmap\": [{\"colorbar\": {\"outlinewidth\": 0, \"ticks\": \"\"}, \"colorscale\": [[0.0, \"#0d0887\"], [0.1111111111111111, \"#46039f\"], [0.2222222222222222, \"#7201a8\"], [0.3333333333333333, \"#9c179e\"], [0.4444444444444444, \"#bd3786\"], [0.5555555555555556, \"#d8576b\"], [0.6666666666666666, \"#ed7953\"], [0.7777777777777778, \"#fb9f3a\"], [0.8888888888888888, \"#fdca26\"], [1.0, \"#f0f921\"]], \"type\": \"heatmap\"}], \"heatmapgl\": [{\"colorbar\": {\"outlinewidth\": 0, \"ticks\": \"\"}, \"colorscale\": [[0.0, \"#0d0887\"], [0.1111111111111111, \"#46039f\"], [0.2222222222222222, \"#7201a8\"], [0.3333333333333333, \"#9c179e\"], [0.4444444444444444, \"#bd3786\"], [0.5555555555555556, \"#d8576b\"], [0.6666666666666666, \"#ed7953\"], [0.7777777777777778, \"#fb9f3a\"], [0.8888888888888888, \"#fdca26\"], [1.0, \"#f0f921\"]], \"type\": \"heatmapgl\"}], \"histogram\": [{\"marker\": {\"colorbar\": {\"outlinewidth\": 0, \"ticks\": \"\"}}, \"type\": \"histogram\"}], \"histogram2d\": [{\"colorbar\": {\"outlinewidth\": 0, \"ticks\": \"\"}, \"colorscale\": [[0.0, \"#0d0887\"], [0.1111111111111111, \"#46039f\"], [0.2222222222222222, \"#7201a8\"], [0.3333333333333333, \"#9c179e\"], [0.4444444444444444, \"#bd3786\"], [0.5555555555555556, \"#d8576b\"], [0.6666666666666666, \"#ed7953\"], [0.7777777777777778, \"#fb9f3a\"], [0.8888888888888888, \"#fdca26\"], [1.0, \"#f0f921\"]], \"type\": \"histogram2d\"}], \"histogram2dcontour\": [{\"colorbar\": {\"outlinewidth\": 0, \"ticks\": \"\"}, \"colorscale\": [[0.0, \"#0d0887\"], [0.1111111111111111, \"#46039f\"], [0.2222222222222222, \"#7201a8\"], [0.3333333333333333, \"#9c179e\"], [0.4444444444444444, \"#bd3786\"], [0.5555555555555556, \"#d8576b\"], [0.6666666666666666, \"#ed7953\"], [0.7777777777777778, \"#fb9f3a\"], [0.8888888888888888, \"#fdca26\"], [1.0, \"#f0f921\"]], \"type\": \"histogram2dcontour\"}], \"mesh3d\": [{\"colorbar\": {\"outlinewidth\": 0, \"ticks\": \"\"}, \"type\": \"mesh3d\"}], \"parcoords\": [{\"line\": {\"colorbar\": {\"outlinewidth\": 0, \"ticks\": \"\"}}, \"type\": \"parcoords\"}], \"pie\": [{\"automargin\": true, \"type\": \"pie\"}], \"scatter\": [{\"marker\": {\"colorbar\": {\"outlinewidth\": 0, \"ticks\": \"\"}}, \"type\": \"scatter\"}], \"scatter3d\": [{\"line\": {\"colorbar\": {\"outlinewidth\": 0, \"ticks\": \"\"}}, \"marker\": {\"colorbar\": {\"outlinewidth\": 0, \"ticks\": \"\"}}, \"type\": \"scatter3d\"}], \"scattercarpet\": [{\"marker\": {\"colorbar\": {\"outlinewidth\": 0, \"ticks\": \"\"}}, \"type\": \"scattercarpet\"}], \"scattergeo\": [{\"marker\": {\"colorbar\": {\"outlinewidth\": 0, \"ticks\": \"\"}}, \"type\": \"scattergeo\"}], \"scattergl\": [{\"marker\": {\"colorbar\": {\"outlinewidth\": 0, \"ticks\": \"\"}}, \"type\": \"scattergl\"}], \"scattermapbox\": [{\"marker\": {\"colorbar\": {\"outlinewidth\": 0, \"ticks\": \"\"}}, \"type\": \"scattermapbox\"}], \"scatterpolar\": [{\"marker\": {\"colorbar\": {\"outlinewidth\": 0, \"ticks\": \"\"}}, \"type\": \"scatterpolar\"}], \"scatterpolargl\": [{\"marker\": {\"colorbar\": {\"outlinewidth\": 0, \"ticks\": \"\"}}, \"type\": \"scatterpolargl\"}], \"scatterternary\": [{\"marker\": {\"colorbar\": {\"outlinewidth\": 0, \"ticks\": \"\"}}, \"type\": \"scatterternary\"}], \"surface\": [{\"colorbar\": {\"outlinewidth\": 0, \"ticks\": \"\"}, \"colorscale\": [[0.0, \"#0d0887\"], [0.1111111111111111, \"#46039f\"], [0.2222222222222222, \"#7201a8\"], [0.3333333333333333, \"#9c179e\"], [0.4444444444444444, \"#bd3786\"], [0.5555555555555556, \"#d8576b\"], [0.6666666666666666, \"#ed7953\"], [0.7777777777777778, \"#fb9f3a\"], [0.8888888888888888, \"#fdca26\"], [1.0, \"#f0f921\"]], \"type\": \"surface\"}], \"table\": [{\"cells\": {\"fill\": {\"color\": \"#EBF0F8\"}, \"line\": {\"color\": \"white\"}}, \"header\": {\"fill\": {\"color\": \"#C8D4E3\"}, \"line\": {\"color\": \"white\"}}, \"type\": \"table\"}]}, \"layout\": {\"annotationdefaults\": {\"arrowcolor\": \"#2a3f5f\", \"arrowhead\": 0, \"arrowwidth\": 1}, \"coloraxis\": {\"colorbar\": {\"outlinewidth\": 0, \"ticks\": \"\"}}, \"colorscale\": {\"diverging\": [[0, \"#8e0152\"], [0.1, \"#c51b7d\"], [0.2, \"#de77ae\"], [0.3, \"#f1b6da\"], [0.4, \"#fde0ef\"], [0.5, \"#f7f7f7\"], [0.6, \"#e6f5d0\"], [0.7, \"#b8e186\"], [0.8, \"#7fbc41\"], [0.9, \"#4d9221\"], [1, \"#276419\"]], \"sequential\": [[0.0, \"#0d0887\"], [0.1111111111111111, \"#46039f\"], [0.2222222222222222, \"#7201a8\"], [0.3333333333333333, \"#9c179e\"], [0.4444444444444444, \"#bd3786\"], [0.5555555555555556, \"#d8576b\"], [0.6666666666666666, \"#ed7953\"], [0.7777777777777778, \"#fb9f3a\"], [0.8888888888888888, \"#fdca26\"], [1.0, \"#f0f921\"]], \"sequentialminus\": [[0.0, \"#0d0887\"], [0.1111111111111111, \"#46039f\"], [0.2222222222222222, \"#7201a8\"], [0.3333333333333333, \"#9c179e\"], [0.4444444444444444, \"#bd3786\"], [0.5555555555555556, \"#d8576b\"], [0.6666666666666666, \"#ed7953\"], [0.7777777777777778, \"#fb9f3a\"], [0.8888888888888888, \"#fdca26\"], [1.0, \"#f0f921\"]]}, \"colorway\": [\"#636efa\", \"#EF553B\", \"#00cc96\", \"#ab63fa\", \"#FFA15A\", \"#19d3f3\", \"#FF6692\", \"#B6E880\", \"#FF97FF\", \"#FECB52\"], \"font\": {\"color\": \"#2a3f5f\"}, \"geo\": {\"bgcolor\": \"white\", \"lakecolor\": \"white\", \"landcolor\": \"#E5ECF6\", \"showlakes\": true, \"showland\": true, \"subunitcolor\": \"white\"}, \"hoverlabel\": {\"align\": \"left\"}, \"hovermode\": \"closest\", \"mapbox\": {\"style\": \"light\"}, \"paper_bgcolor\": \"white\", \"plot_bgcolor\": \"#E5ECF6\", \"polar\": {\"angularaxis\": {\"gridcolor\": \"white\", \"linecolor\": \"white\", \"ticks\": \"\"}, \"bgcolor\": \"#E5ECF6\", \"radialaxis\": {\"gridcolor\": \"white\", \"linecolor\": \"white\", \"ticks\": \"\"}}, \"scene\": {\"xaxis\": {\"backgroundcolor\": \"#E5ECF6\", \"gridcolor\": \"white\", \"gridwidth\": 2, \"linecolor\": \"white\", \"showbackground\": true, \"ticks\": \"\", \"zerolinecolor\": \"white\"}, \"yaxis\": {\"backgroundcolor\": \"#E5ECF6\", \"gridcolor\": \"white\", \"gridwidth\": 2, \"linecolor\": \"white\", \"showbackground\": true, \"ticks\": \"\", \"zerolinecolor\": \"white\"}, \"zaxis\": {\"backgroundcolor\": \"#E5ECF6\", \"gridcolor\": \"white\", \"gridwidth\": 2, \"linecolor\": \"white\", \"showbackground\": true, \"ticks\": \"\", \"zerolinecolor\": \"white\"}}, \"shapedefaults\": {\"line\": {\"color\": \"#2a3f5f\"}}, \"ternary\": {\"aaxis\": {\"gridcolor\": \"white\", \"linecolor\": \"white\", \"ticks\": \"\"}, \"baxis\": {\"gridcolor\": \"white\", \"linecolor\": \"white\", \"ticks\": \"\"}, \"bgcolor\": \"#E5ECF6\", \"caxis\": {\"gridcolor\": \"white\", \"linecolor\": \"white\", \"ticks\": \"\"}}, \"title\": {\"x\": 0.05}, \"xaxis\": {\"automargin\": true, \"gridcolor\": \"white\", \"linecolor\": \"white\", \"ticks\": \"\", \"title\": {\"standoff\": 15}, \"zerolinecolor\": \"white\", \"zerolinewidth\": 2}, \"yaxis\": {\"automargin\": true, \"gridcolor\": \"white\", \"linecolor\": \"white\", \"ticks\": \"\", \"title\": {\"standoff\": 15}, \"zerolinecolor\": \"white\", \"zerolinewidth\": 2}}}, \"title\": {\"font\": {\"color\": \"#4D5663\"}}, \"xaxis\": {\"gridcolor\": \"#E1E5ED\", \"showgrid\": true, \"tickfont\": {\"color\": \"#4D5663\"}, \"title\": {\"font\": {\"color\": \"#4D5663\"}, \"text\": \"\"}, \"zerolinecolor\": \"#E1E5ED\"}, \"yaxis\": {\"gridcolor\": \"#E1E5ED\", \"showgrid\": true, \"tickfont\": {\"color\": \"#4D5663\"}, \"title\": {\"font\": {\"color\": \"#4D5663\"}, \"text\": \"\"}, \"zerolinecolor\": \"#E1E5ED\"}},\n",
       "                        {\"showLink\": true, \"linkText\": \"Export to plot.ly\", \"plotlyServerURL\": \"https://plot.ly\", \"responsive\": true}\n",
       "                    ).then(function(){\n",
       "                            \n",
       "var gd = document.getElementById('6de8e461-d574-4fcd-9649-2b78e1203ed0');\n",
       "var x = new MutationObserver(function (mutations, observer) {{\n",
       "        var display = window.getComputedStyle(gd).display;\n",
       "        if (!display || display === 'none') {{\n",
       "            console.log([gd, 'removed!']);\n",
       "            Plotly.purge(gd);\n",
       "            observer.disconnect();\n",
       "        }}\n",
       "}});\n",
       "\n",
       "// Listen for the removal of the full notebook cells\n",
       "var notebookContainer = gd.closest('#notebook-container');\n",
       "if (notebookContainer) {{\n",
       "    x.observe(notebookContainer, {childList: true});\n",
       "}}\n",
       "\n",
       "// Listen for the clearing of the current output cell\n",
       "var outputEl = gd.closest('.output');\n",
       "if (outputEl) {{\n",
       "    x.observe(outputEl, {childList: true});\n",
       "}}\n",
       "\n",
       "                        })\n",
       "                };\n",
       "                });\n",
       "            </script>\n",
       "        </div>"
      ]
     },
     "metadata": {},
     "output_type": "display_data"
    }
   ],
   "source": [
    "grouped = data.groupby('country_state')['sales_count'].sum()\n",
    "grouped = grouped.reset_index()\n",
    "grouped.iplot(kind = 'bar', x = 'country_state')"
   ]
  },
  {
   "cell_type": "markdown",
   "metadata": {},
   "source": [
    "We can see that the majority of the shops are US based (US together with the rest of the states), but there is also a good number of shops based in UK. It seems that Etsy is most popular in US and UK."
   ]
  },
  {
   "cell_type": "markdown",
   "metadata": {},
   "source": [
    "### Shops based in US"
   ]
  },
  {
   "cell_type": "markdown",
   "metadata": {},
   "source": [
    "Let's see if there is a big difference between the number of the shops that are based in US and not:"
   ]
  },
  {
   "cell_type": "code",
   "execution_count": 22,
   "metadata": {
    "ExecuteTime": {
     "end_time": "2020-03-14T16:32:05.184773Z",
     "start_time": "2020-03-14T16:32:05.173801Z"
    }
   },
   "outputs": [
    {
     "data": {
      "text/html": [
       "<div>\n",
       "<style scoped>\n",
       "    .dataframe tbody tr th:only-of-type {\n",
       "        vertical-align: middle;\n",
       "    }\n",
       "\n",
       "    .dataframe tbody tr th {\n",
       "        vertical-align: top;\n",
       "    }\n",
       "\n",
       "    .dataframe thead th {\n",
       "        text-align: right;\n",
       "    }\n",
       "</style>\n",
       "<table border=\"1\" class=\"dataframe\">\n",
       "  <thead>\n",
       "    <tr style=\"text-align: right;\">\n",
       "      <th></th>\n",
       "      <th>creation_date</th>\n",
       "      <th>listing_active_count</th>\n",
       "      <th>num_favorers</th>\n",
       "      <th>currency_code</th>\n",
       "      <th>is_shop_us_based</th>\n",
       "      <th>sale_message</th>\n",
       "      <th>sales_count</th>\n",
       "      <th>review_count</th>\n",
       "      <th>shop_location</th>\n",
       "      <th>country_state</th>\n",
       "    </tr>\n",
       "  </thead>\n",
       "  <tbody>\n",
       "    <tr>\n",
       "      <td>0</td>\n",
       "      <td>19-Nov</td>\n",
       "      <td>3</td>\n",
       "      <td>1</td>\n",
       "      <td>USD</td>\n",
       "      <td>True</td>\n",
       "      <td>False</td>\n",
       "      <td>0.0</td>\n",
       "      <td>0.0</td>\n",
       "      <td>Kansas City, Missouri</td>\n",
       "      <td>Missouri</td>\n",
       "    </tr>\n",
       "    <tr>\n",
       "      <td>1</td>\n",
       "      <td>19-Nov</td>\n",
       "      <td>13</td>\n",
       "      <td>1</td>\n",
       "      <td>AUD</td>\n",
       "      <td>False</td>\n",
       "      <td>False</td>\n",
       "      <td>2.0</td>\n",
       "      <td>0.0</td>\n",
       "      <td>NaN</td>\n",
       "      <td>NaN</td>\n",
       "    </tr>\n",
       "    <tr>\n",
       "      <td>2</td>\n",
       "      <td>19-Nov</td>\n",
       "      <td>0</td>\n",
       "      <td>0</td>\n",
       "      <td>USD</td>\n",
       "      <td>True</td>\n",
       "      <td>False</td>\n",
       "      <td>NaN</td>\n",
       "      <td>NaN</td>\n",
       "      <td>NaN</td>\n",
       "      <td>NaN</td>\n",
       "    </tr>\n",
       "    <tr>\n",
       "      <td>3</td>\n",
       "      <td>19-Nov</td>\n",
       "      <td>40</td>\n",
       "      <td>1</td>\n",
       "      <td>USD</td>\n",
       "      <td>False</td>\n",
       "      <td>False</td>\n",
       "      <td>0.0</td>\n",
       "      <td>0.0</td>\n",
       "      <td>Kharkiv, Ukraine</td>\n",
       "      <td>Ukraine</td>\n",
       "    </tr>\n",
       "    <tr>\n",
       "      <td>4</td>\n",
       "      <td>19-Nov</td>\n",
       "      <td>7</td>\n",
       "      <td>1</td>\n",
       "      <td>USD</td>\n",
       "      <td>True</td>\n",
       "      <td>False</td>\n",
       "      <td>0.0</td>\n",
       "      <td>0.0</td>\n",
       "      <td>New York, United States</td>\n",
       "      <td>United States</td>\n",
       "    </tr>\n",
       "  </tbody>\n",
       "</table>\n",
       "</div>"
      ],
      "text/plain": [
       "  creation_date  listing_active_count  num_favorers currency_code  \\\n",
       "0        19-Nov                     3             1           USD   \n",
       "1        19-Nov                    13             1           AUD   \n",
       "2        19-Nov                     0             0           USD   \n",
       "3        19-Nov                    40             1           USD   \n",
       "4        19-Nov                     7             1           USD   \n",
       "\n",
       "   is_shop_us_based  sale_message  sales_count  review_count  \\\n",
       "0              True         False          0.0           0.0   \n",
       "1             False         False          2.0           0.0   \n",
       "2              True         False          NaN           NaN   \n",
       "3             False         False          0.0           0.0   \n",
       "4              True         False          0.0           0.0   \n",
       "\n",
       "             shop_location  country_state  \n",
       "0    Kansas City, Missouri       Missouri  \n",
       "1                      NaN            NaN  \n",
       "2                      NaN            NaN  \n",
       "3         Kharkiv, Ukraine        Ukraine  \n",
       "4  New York, United States  United States  "
      ]
     },
     "execution_count": 22,
     "metadata": {},
     "output_type": "execute_result"
    }
   ],
   "source": [
    "data.head()"
   ]
  },
  {
   "cell_type": "code",
   "execution_count": 23,
   "metadata": {
    "ExecuteTime": {
     "end_time": "2020-03-14T16:32:05.300975Z",
     "start_time": "2020-03-14T16:32:05.186768Z"
    }
   },
   "outputs": [
    {
     "data": {
      "image/png": "[encoded data removed]",
      "text/plain": [
       "<Figure size 720x432 with 1 Axes>"
      ]
     },
     "metadata": {
      "needs_background": "light"
     },
     "output_type": "display_data"
    }
   ],
   "source": [
    "fig, ax = plt.subplots(1, figsize=(10,6))\n",
    "plt.style.use('seaborn')\n",
    "\n",
    "shop_us_based = data.is_shop_us_based.value_counts()\n",
    "shop_us_based.plot(kind='bar', rot=0)\n",
    "plt.xlabel('Is shop US based')\n",
    "plt.ylabel('Total number of shops')\n",
    "plt.title('Distribution of shops: US based or not')\n",
    "\n",
    "ticks = ['Yes', 'No']\n",
    "ax.set_xticklabels(ticks)\n",
    "\n",
    "plt.show()"
   ]
  },
  {
   "cell_type": "markdown",
   "metadata": {},
   "source": [
    "We have slightly more shops that are based in US."
   ]
  },
  {
   "cell_type": "markdown",
   "metadata": {},
   "source": [
    "Let's see the distribution of sales comparing countries based in US and not based in US:"
   ]
  },
  {
   "cell_type": "code",
   "execution_count": 24,
   "metadata": {
    "ExecuteTime": {
     "end_time": "2020-03-14T16:32:05.558302Z",
     "start_time": "2020-03-14T16:32:05.301971Z"
    }
   },
   "outputs": [
    {
     "data": {
      "image/png": "[encoded data removed]",
      "text/plain": [
       "<Figure size 720x432 with 1 Axes>"
      ]
     },
     "metadata": {},
     "output_type": "display_data"
    }
   ],
   "source": [
    "plt.figure(figsize=(10,6))\n",
    "plt.style.use('seaborn')\n",
    "sns.swarmplot(data.loc[data.sales_count>30].is_shop_us_based, data.loc[data.sales_count>30].sales_count)\n",
    "\n",
    "plt.xlabel('Is shop US based')\n",
    "plt.ylabel('Total number of sales')\n",
    "plt.title('Distribution of sales: US based or not')\n",
    "\n",
    "plt.show()"
   ]
  },
  {
   "cell_type": "markdown",
   "metadata": {},
   "source": [
    "Let's investigate the distribution of the active listings and the number of favorers (checking by the shop location: US based or not):"
   ]
  },
  {
   "cell_type": "code",
   "execution_count": 25,
   "metadata": {
    "ExecuteTime": {
     "end_time": "2020-03-14T16:32:05.750770Z",
     "start_time": "2020-03-14T16:32:05.559284Z"
    }
   },
   "outputs": [
    {
     "data": {
      "image/png": "[encoded data removed]",
      "text/plain": [
       "<Figure size 1152x504 with 2 Axes>"
      ]
     },
     "metadata": {},
     "output_type": "display_data"
    }
   ],
   "source": [
    "fig, [ax1, ax2] = plt.subplots(1,2, figsize=(16,7)) #creating a figure with two charts\n",
    "plt.style.use('seaborn')\n",
    "\n",
    "plt.sca(ax1)\n",
    "\n",
    "listings = data.groupby('is_shop_us_based')['listing_active_count'].sum()\n",
    "listings.plot(kind='bar', rot=0)\n",
    "plt.xlabel('Is shop US based')\n",
    "plt.ylabel('Total number of active listings')\n",
    "plt.title('The number of active listings')\n",
    "\n",
    "ticks = ['No', 'Yes']\n",
    "ax1.set_xticklabels(ticks)\n",
    "\n",
    "plt.sca(ax2)\n",
    "\n",
    "favorers = data.groupby('is_shop_us_based')['num_favorers'].sum()\n",
    "favorers.plot(kind='bar', rot=0)\n",
    "plt.xlabel('Is shop US based')\n",
    "plt.ylabel('Total number of favorers')\n",
    "plt.title('The number of favorers')\n",
    "\n",
    "ticks = ['No', 'Yes']\n",
    "ax2.set_xticklabels(ticks)\n",
    "\n",
    "plt.show()"
   ]
  },
  {
   "cell_type": "markdown",
   "metadata": {
    "ExecuteTime": {
     "end_time": "2020-03-13T17:15:27.183929Z",
     "start_time": "2020-03-13T17:15:27.175327Z"
    }
   },
   "source": [
    "There is almost no difference in the number of active listings of the shops that are US based and not. But we can see a bigger difference in the total number of favorers. The US based shops have a clearly higher number of favorers."
   ]
  },
  {
   "cell_type": "markdown",
   "metadata": {},
   "source": [
    "Let's look at the correlation between the different variables by the shop location: US based or not"
   ]
  },
  {
   "cell_type": "code",
   "execution_count": 26,
   "metadata": {
    "ExecuteTime": {
     "end_time": "2020-03-14T16:32:10.161690Z",
     "start_time": "2020-03-14T16:32:05.751770Z"
    },
    "scrolled": false
   },
   "outputs": [
    {
     "name": "stderr",
     "output_type": "stream",
     "text": [
      "C:\\Users\\krist\\Anaconda3\\lib\\site-packages\\statsmodels\\nonparametric\\kde.py:447: RuntimeWarning:\n",
      "\n",
      "invalid value encountered in greater\n",
      "\n",
      "C:\\Users\\krist\\Anaconda3\\lib\\site-packages\\statsmodels\\nonparametric\\kde.py:447: RuntimeWarning:\n",
      "\n",
      "invalid value encountered in less\n",
      "\n",
      "C:\\Users\\krist\\Anaconda3\\lib\\site-packages\\statsmodels\\nonparametric\\kde.py:447: RuntimeWarning:\n",
      "\n",
      "invalid value encountered in greater\n",
      "\n",
      "C:\\Users\\krist\\Anaconda3\\lib\\site-packages\\statsmodels\\nonparametric\\kde.py:447: RuntimeWarning:\n",
      "\n",
      "invalid value encountered in less\n",
      "\n",
      "C:\\Users\\krist\\Anaconda3\\lib\\site-packages\\statsmodels\\nonparametric\\kde.py:447: RuntimeWarning:\n",
      "\n",
      "invalid value encountered in greater\n",
      "\n",
      "C:\\Users\\krist\\Anaconda3\\lib\\site-packages\\statsmodels\\nonparametric\\kde.py:447: RuntimeWarning:\n",
      "\n",
      "invalid value encountered in less\n",
      "\n",
      "C:\\Users\\krist\\Anaconda3\\lib\\site-packages\\statsmodels\\nonparametric\\kde.py:447: RuntimeWarning:\n",
      "\n",
      "invalid value encountered in greater\n",
      "\n",
      "C:\\Users\\krist\\Anaconda3\\lib\\site-packages\\statsmodels\\nonparametric\\kde.py:447: RuntimeWarning:\n",
      "\n",
      "invalid value encountered in less\n",
      "\n"
     ]
    },
    {
     "data": {
      "image/png": "[encoded data removed]",
      "text/plain": [
       "<Figure size 806.25x720 with 20 Axes>"
      ]
     },
     "metadata": {},
     "output_type": "display_data"
    }
   ],
   "source": [
    "sns.pairplot(data, vars=['listing_active_count', 'num_favorers', 'sales_count', 'review_count'], \n",
    "             hue=\"is_shop_us_based\")\n",
    "\n",
    "plt.show()"
   ]
  },
  {
   "cell_type": "markdown",
   "metadata": {},
   "source": [
    "After briefly investigating the distribution of shops based on their location, let's check the distribution of sales per shop:"
   ]
  },
  {
   "cell_type": "code",
   "execution_count": 27,
   "metadata": {
    "ExecuteTime": {
     "end_time": "2020-03-14T16:32:10.378112Z",
     "start_time": "2020-03-14T16:32:10.162687Z"
    }
   },
   "outputs": [
    {
     "name": "stderr",
     "output_type": "stream",
     "text": [
      "C:\\Users\\krist\\Anaconda3\\lib\\site-packages\\numpy\\lib\\histograms.py:824: RuntimeWarning:\n",
      "\n",
      "invalid value encountered in greater_equal\n",
      "\n",
      "C:\\Users\\krist\\Anaconda3\\lib\\site-packages\\numpy\\lib\\histograms.py:825: RuntimeWarning:\n",
      "\n",
      "invalid value encountered in less_equal\n",
      "\n"
     ]
    },
    {
     "data": {
      "image/png": "[encoded data removed]",
      "text/plain": [
       "<Figure size 720x432 with 1 Axes>"
      ]
     },
     "metadata": {},
     "output_type": "display_data"
    }
   ],
   "source": [
    "plt.figure(figsize=(10,6))\n",
    "plt.style.use('seaborn')\n",
    "\n",
    "plt.hist(data.sales_count, range=(0,20)) #necessary to apply the range to see a clearer distribution\n",
    "plt.xlabel('Number of sales')\n",
    "plt.ylabel('Count of shops')\n",
    "plt.title('Distribution of sales')\n",
    "plt.show()"
   ]
  },
  {
   "cell_type": "markdown",
   "metadata": {},
   "source": [
    "You can see that the majority of newly created shops have between 0 and 2,5 sales."
   ]
  },
  {
   "cell_type": "markdown",
   "metadata": {},
   "source": [
    "## Correlation"
   ]
  },
  {
   "cell_type": "markdown",
   "metadata": {},
   "source": [
    "Let's check the correlation of all the dataset\n"
   ]
  },
  {
   "cell_type": "code",
   "execution_count": 28,
   "metadata": {
    "ExecuteTime": {
     "end_time": "2020-03-14T16:32:10.579573Z",
     "start_time": "2020-03-14T16:32:10.379110Z"
    }
   },
   "outputs": [
    {
     "data": {
      "image/png": "[encoded data removed]",
      "text/plain": [
       "<Figure size 792x648 with 2 Axes>"
      ]
     },
     "metadata": {},
     "output_type": "display_data"
    }
   ],
   "source": [
    "sns.set(style=\"white\")\n",
    "\n",
    "# Compute the correlation matrix\n",
    "corr = data.corr()\n",
    "\n",
    "# Generate a mask for the upper triangle\n",
    "mask = np.triu(np.ones_like(corr, dtype=np.bool))\n",
    "\n",
    "# Set up the matplotlib figure\n",
    "f, ax = plt.subplots(figsize=(11, 9))\n",
    "\n",
    "# Generate a custom diverging colormap\n",
    "cmap = sns.diverging_palette(220, 10, as_cmap=True)\n",
    "\n",
    "# Draw the heatmap with the mask and correct aspect ratio\n",
    "sns.heatmap(corr, mask=mask, cmap=cmap, vmax=.3, center=0,\n",
    "            square=True, linewidths=.5, cbar_kws={\"shrink\": .5})\n",
    "\n",
    "plt.show()"
   ]
  },
  {
   "cell_type": "markdown",
   "metadata": {},
   "source": [
    "We can see that the highest correlation sales count has with review count and the number of favorers. It means that the social aspect is very important in order to sell more."
   ]
  },
  {
   "cell_type": "markdown",
   "metadata": {},
   "source": [
    "Let's see the actual numbers of the correlation between sales count and different variables:"
   ]
  },
  {
   "cell_type": "code",
   "execution_count": 29,
   "metadata": {
    "ExecuteTime": {
     "end_time": "2020-03-14T16:32:10.592537Z",
     "start_time": "2020-03-14T16:32:10.580589Z"
    }
   },
   "outputs": [
    {
     "data": {
      "text/plain": [
       "sales_count             1.000000\n",
       "review_count            0.535855\n",
       "num_favorers            0.286414\n",
       "listing_active_count    0.097420\n",
       "sale_message            0.028026\n",
       "is_shop_us_based        0.016343\n",
       "Name: sales_count, dtype: float64"
      ]
     },
     "execution_count": 29,
     "metadata": {},
     "output_type": "execute_result"
    }
   ],
   "source": [
    "corr = data.corr()\n",
    "corr.sales_count.sort_values(ascending = False)"
   ]
  },
  {
   "cell_type": "markdown",
   "metadata": {},
   "source": [
    "It's interesting to see that sale message has a very low correlation with the number of sales!"
   ]
  },
  {
   "cell_type": "markdown",
   "metadata": {},
   "source": [
    "Additionally, we can select the variables we want and check their correlation:"
   ]
  },
  {
   "cell_type": "code",
   "execution_count": 30,
   "metadata": {
    "ExecuteTime": {
     "end_time": "2020-03-14T16:32:11.751662Z",
     "start_time": "2020-03-14T16:32:10.593535Z"
    }
   },
   "outputs": [
    {
     "data": {
      "application/vnd.jupyter.widget-view+json": {
       "model_id": "13571267bb1d4e0ba79eeeb802ea93e3",
       "version_major": 2,
       "version_minor": 0
      },
      "text/plain": [
       "interactive(children=(Dropdown(description='x', options=('listing_active_count', 'num_favorers', 'sales_count'…"
      ]
     },
     "metadata": {},
     "output_type": "display_data"
    }
   ],
   "source": [
    "def make_plot(x, y): \n",
    "    sns.lmplot(data = num_data, x = x, y = y)  \n",
    "    \n",
    "num_data = data[['listing_active_count', 'num_favorers', 'sales_count', 'review_count']] #selecting only numeric variables\n",
    "    \n",
    "_= interact(make_plot, x = num_data, y = num_data)"
   ]
  },
  {
   "cell_type": "markdown",
   "metadata": {},
   "source": [
    "Let's have a closer look at the correlation of sales with review count and number of favorers:"
   ]
  },
  {
   "cell_type": "code",
   "execution_count": 31,
   "metadata": {
    "ExecuteTime": {
     "end_time": "2020-03-14T16:32:13.811709Z",
     "start_time": "2020-03-14T16:32:11.752661Z"
    }
   },
   "outputs": [
    {
     "data": {
      "image/png": "[encoded data removed]",
      "text/plain": [
       "<Figure size 1152x504 with 2 Axes>"
      ]
     },
     "metadata": {},
     "output_type": "display_data"
    }
   ],
   "source": [
    "fig = plt.figure(1, figsize = (16,7))\n",
    "\n",
    "ax1 = fig.add_subplot(1, 2, 1)\n",
    "sns.regplot(x = \"sales_count\", y = \"review_count\", data=data)\n",
    "\n",
    "ax2 = fig.add_subplot(1, 2, 2)\n",
    "sns.regplot(x = \"sales_count\", y = \"num_favorers\", data=data)\n",
    "\n",
    "plt.show()"
   ]
  },
  {
   "cell_type": "markdown",
   "metadata": {},
   "source": [
    "We can see that both variables have a possitive correlation with the number of sales. The more reviews and favorers the shop has, the more sales it will generate. \n",
    "\n",
    "There are some outliers, but the majority of shops have up to 10 reviews and generate up to 200 sales. \n",
    "\n",
    "The similar situation with the number of favorers, the majority of the shops have up to 50 favorers and generate up to 200 sales. "
   ]
  },
  {
   "cell_type": "markdown",
   "metadata": {},
   "source": [
    "It's interesting to see that we have some shops that managed to generate more than 500 sales in such a short timeframe, let's see these shops:"
   ]
  },
  {
   "cell_type": "code",
   "execution_count": 32,
   "metadata": {
    "ExecuteTime": {
     "end_time": "2020-03-14T16:32:13.824643Z",
     "start_time": "2020-03-14T16:32:13.812673Z"
    }
   },
   "outputs": [
    {
     "data": {
      "text/html": [
       "<div>\n",
       "<style scoped>\n",
       "    .dataframe tbody tr th:only-of-type {\n",
       "        vertical-align: middle;\n",
       "    }\n",
       "\n",
       "    .dataframe tbody tr th {\n",
       "        vertical-align: top;\n",
       "    }\n",
       "\n",
       "    .dataframe thead th {\n",
       "        text-align: right;\n",
       "    }\n",
       "</style>\n",
       "<table border=\"1\" class=\"dataframe\">\n",
       "  <thead>\n",
       "    <tr style=\"text-align: right;\">\n",
       "      <th></th>\n",
       "      <th>creation_date</th>\n",
       "      <th>listing_active_count</th>\n",
       "      <th>num_favorers</th>\n",
       "      <th>currency_code</th>\n",
       "      <th>is_shop_us_based</th>\n",
       "      <th>sale_message</th>\n",
       "      <th>sales_count</th>\n",
       "      <th>review_count</th>\n",
       "      <th>shop_location</th>\n",
       "      <th>country_state</th>\n",
       "    </tr>\n",
       "  </thead>\n",
       "  <tbody>\n",
       "    <tr>\n",
       "      <td>10511</td>\n",
       "      <td>19-Nov</td>\n",
       "      <td>1</td>\n",
       "      <td>14</td>\n",
       "      <td>USD</td>\n",
       "      <td>True</td>\n",
       "      <td>False</td>\n",
       "      <td>1285.0</td>\n",
       "      <td>13.0</td>\n",
       "      <td>Garden City, New York</td>\n",
       "      <td>New York</td>\n",
       "    </tr>\n",
       "    <tr>\n",
       "      <td>11904</td>\n",
       "      <td>19-Nov</td>\n",
       "      <td>4</td>\n",
       "      <td>17</td>\n",
       "      <td>USD</td>\n",
       "      <td>True</td>\n",
       "      <td>True</td>\n",
       "      <td>1508.0</td>\n",
       "      <td>9.0</td>\n",
       "      <td>Charlotte, North Carolina</td>\n",
       "      <td>North Carolina</td>\n",
       "    </tr>\n",
       "    <tr>\n",
       "      <td>13540</td>\n",
       "      <td>19-Nov</td>\n",
       "      <td>60</td>\n",
       "      <td>22</td>\n",
       "      <td>USD</td>\n",
       "      <td>True</td>\n",
       "      <td>False</td>\n",
       "      <td>889.0</td>\n",
       "      <td>1.0</td>\n",
       "      <td>NaN</td>\n",
       "      <td>NaN</td>\n",
       "    </tr>\n",
       "    <tr>\n",
       "      <td>15354</td>\n",
       "      <td>19-Nov</td>\n",
       "      <td>9</td>\n",
       "      <td>29</td>\n",
       "      <td>USD</td>\n",
       "      <td>True</td>\n",
       "      <td>False</td>\n",
       "      <td>803.0</td>\n",
       "      <td>0.0</td>\n",
       "      <td>NaN</td>\n",
       "      <td>NaN</td>\n",
       "    </tr>\n",
       "    <tr>\n",
       "      <td>16750</td>\n",
       "      <td>19-Nov</td>\n",
       "      <td>373</td>\n",
       "      <td>19</td>\n",
       "      <td>GBP</td>\n",
       "      <td>False</td>\n",
       "      <td>False</td>\n",
       "      <td>580.0</td>\n",
       "      <td>8.0</td>\n",
       "      <td>NaN</td>\n",
       "      <td>NaN</td>\n",
       "    </tr>\n",
       "    <tr>\n",
       "      <td>16835</td>\n",
       "      <td>19-Nov</td>\n",
       "      <td>25</td>\n",
       "      <td>22</td>\n",
       "      <td>EUR</td>\n",
       "      <td>False</td>\n",
       "      <td>False</td>\n",
       "      <td>2216.0</td>\n",
       "      <td>51.0</td>\n",
       "      <td>NaN</td>\n",
       "      <td>NaN</td>\n",
       "    </tr>\n",
       "    <tr>\n",
       "      <td>19583</td>\n",
       "      <td>19-Nov</td>\n",
       "      <td>203</td>\n",
       "      <td>106</td>\n",
       "      <td>GBP</td>\n",
       "      <td>False</td>\n",
       "      <td>False</td>\n",
       "      <td>1096.0</td>\n",
       "      <td>0.0</td>\n",
       "      <td>NaN</td>\n",
       "      <td>NaN</td>\n",
       "    </tr>\n",
       "  </tbody>\n",
       "</table>\n",
       "</div>"
      ],
      "text/plain": [
       "      creation_date  listing_active_count  num_favorers currency_code  \\\n",
       "10511        19-Nov                     1            14           USD   \n",
       "11904        19-Nov                     4            17           USD   \n",
       "13540        19-Nov                    60            22           USD   \n",
       "15354        19-Nov                     9            29           USD   \n",
       "16750        19-Nov                   373            19           GBP   \n",
       "16835        19-Nov                    25            22           EUR   \n",
       "19583        19-Nov                   203           106           GBP   \n",
       "\n",
       "       is_shop_us_based  sale_message  sales_count  review_count  \\\n",
       "10511              True         False       1285.0          13.0   \n",
       "11904              True          True       1508.0           9.0   \n",
       "13540              True         False        889.0           1.0   \n",
       "15354              True         False        803.0           0.0   \n",
       "16750             False         False        580.0           8.0   \n",
       "16835             False         False       2216.0          51.0   \n",
       "19583             False         False       1096.0           0.0   \n",
       "\n",
       "                   shop_location   country_state  \n",
       "10511      Garden City, New York        New York  \n",
       "11904  Charlotte, North Carolina  North Carolina  \n",
       "13540                        NaN             NaN  \n",
       "15354                        NaN             NaN  \n",
       "16750                        NaN             NaN  \n",
       "16835                        NaN             NaN  \n",
       "19583                        NaN             NaN  "
      ]
     },
     "execution_count": 32,
     "metadata": {},
     "output_type": "execute_result"
    }
   ],
   "source": [
    "data.loc[data.sales_count > 500]"
   ]
  },
  {
   "cell_type": "markdown",
   "metadata": {},
   "source": [
    "We can see that we have only 7 shops with this high number of sales out of almost 20000. "
   ]
  },
  {
   "cell_type": "markdown",
   "metadata": {},
   "source": [
    "### Cleaning outliers"
   ]
  },
  {
   "cell_type": "markdown",
   "metadata": {},
   "source": [
    "As we have identified before, we have some outliers that were easy to spot in the previous graph. Let's remove them from the data to check the correlation with the sales again:"
   ]
  },
  {
   "cell_type": "code",
   "execution_count": 33,
   "metadata": {
    "ExecuteTime": {
     "end_time": "2020-03-14T16:32:15.818545Z",
     "start_time": "2020-03-14T16:32:13.825639Z"
    }
   },
   "outputs": [
    {
     "data": {
      "image/png": "[encoded data removed]",
      "text/plain": [
       "<Figure size 1152x504 with 2 Axes>"
      ]
     },
     "metadata": {},
     "output_type": "display_data"
    }
   ],
   "source": [
    "filtered_data = data.loc[(data.review_count<15) & (data.sales_count<100) & (data.num_favorers<100)]\n",
    "\n",
    "fig = plt.figure(1, figsize = (16,7))\n",
    "\n",
    "ax1 = fig.add_subplot(1, 2, 1)\n",
    "sns.regplot(x = \"sales_count\", y = \"review_count\", data=filtered_data)\n",
    "\n",
    "ax2 = fig.add_subplot(1, 2, 2)\n",
    "sns.regplot(x = \"sales_count\", y = \"num_favorers\", data=filtered_data)\n",
    "\n",
    "plt.show()"
   ]
  },
  {
   "cell_type": "markdown",
   "metadata": {},
   "source": [
    "Without the outliers it's a lot clearer to see that the majority of shops have up tp 20 favorers and generate up to 40 sales. Taling about the reviews, we can see that the majority of shops have up to 6 reviews and up to 60 sales."
   ]
  },
  {
   "cell_type": "markdown",
   "metadata": {},
   "source": [
    "## Main outcomes"
   ]
  },
  {
   "cell_type": "markdown",
   "metadata": {},
   "source": [
    "- The majority of the shops are US based, but there is also a good number of shops based in UK.\n",
    "- The US based shops have a higher number of favorers compared to non US based.\n",
    "- The majority of a newly created shops have between 0 and 2,5 sales.\n",
    "- Sales Count has the highest correlation with review count and the number of favorers. It means that the social aspect is very important in order to sell more.\n",
    "- Interestingly, sale message has a very low correlation with the number of sales!"
   ]
  }
 ],
 "metadata": {
  "kernelspec": {
   "display_name": "Python 3",
   "language": "python",
   "name": "python3"
  },
  "language_info": {
   "codemirror_mode": {
    "name": "ipython",
    "version": 3
   },
   "file_extension": ".py",
   "mimetype": "text/x-python",
   "name": "python",
   "nbconvert_exporter": "python",
   "pygments_lexer": "ipython3",
   "version": "3.7.4"
  },
  "toc": {
   "base_numbering": 1,
   "nav_menu": {},
   "number_sections": true,
   "sideBar": true,
   "skip_h1_title": false,
   "title_cell": "Table of Contents",
   "title_sidebar": "Contents",
   "toc_cell": true,
   "toc_position": {},
   "toc_section_display": true,
   "toc_window_display": false
  }
 },
 "nbformat": 4,
 "nbformat_minor": 2
}
